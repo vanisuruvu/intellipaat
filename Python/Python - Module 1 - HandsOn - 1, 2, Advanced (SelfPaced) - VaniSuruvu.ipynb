{
 "cells": [
  {
   "cell_type": "markdown",
   "id": "8d1d889d",
   "metadata": {},
   "source": [
    "# 1. Create a python file named Module.\n",
    "- a. Inside the file, define 4 methods named – addition, subtraction, multiplication, and division.\n",
    "- b. Each method should only accept 2 arguments and should return the result of the operation performed in each method. For e.g., addition() should return the sum of two arguments.\n",
    "- c. Save the Module file in .py format."
   ]
  },
  {
   "cell_type": "code",
   "execution_count": null,
   "id": "db366e58",
   "metadata": {},
   "outputs": [],
   "source": [
    "# Created file Module.py\n",
    "def addition(a,b):\n",
    "    return a+b\n",
    "\n",
    "def subtraction(a,b):\n",
    "    return a-b\n",
    "\n",
    "def multiplication(a,b):\n",
    "    return a*b\n",
    "\n",
    "def division(a,b):\n",
    "    return a/b"
   ]
  },
  {
   "cell_type": "markdown",
   "id": "e80edf4a",
   "metadata": {},
   "source": [
    "### 2. Open a new python file and import the Module.py file.\n",
    "- a. Now call the 4 methods from the Module.py file, i.e., addition(), subtraction(), multiplication(), and division()."
   ]
  },
  {
   "cell_type": "code",
   "execution_count": 4,
   "id": "156680a0",
   "metadata": {},
   "outputs": [
    {
     "name": "stdout",
     "output_type": "stream",
     "text": [
      "30\n",
      "10\n",
      "200\n",
      "0.5\n"
     ]
    }
   ],
   "source": [
    "# created Module2.py with below code\n",
    "from PythonFiles.Module import *\n",
    "\n",
    "print(addition(10,20))\n",
    "print(subtraction(20,10))\n",
    "print(multiplication(10,20))\n",
    "print(division(10,20))"
   ]
  },
  {
   "cell_type": "markdown",
   "id": "b037c4ba",
   "metadata": {},
   "source": [
    "### 3. From the Module file, import only the addition() and pass the arguments so that it can display the result from the method."
   ]
  },
  {
   "cell_type": "code",
   "execution_count": 5,
   "id": "8b50674c",
   "metadata": {},
   "outputs": [
    {
     "name": "stdout",
     "output_type": "stream",
     "text": [
      "6\n"
     ]
    }
   ],
   "source": [
    "from PythonFiles.Module import addition\n",
    "print(addition(1,5))"
   ]
  },
  {
   "cell_type": "markdown",
   "id": "0b473184",
   "metadata": {},
   "source": [
    "### 4. From the Module file, import only the subtraction() and pass the arguments so that it can display the result from the method."
   ]
  },
  {
   "cell_type": "code",
   "execution_count": 6,
   "id": "5933a30f",
   "metadata": {},
   "outputs": [
    {
     "name": "stdout",
     "output_type": "stream",
     "text": [
      "-4\n"
     ]
    }
   ],
   "source": [
    "from PythonFiles.Module import subtraction\n",
    "print(subtraction(1,5))"
   ]
  },
  {
   "cell_type": "markdown",
   "id": "f3dad0c8",
   "metadata": {},
   "source": [
    "### 5. From the Module file, import both the multiplication() and division() and pass the arguments so that it can display the result from the methods."
   ]
  },
  {
   "cell_type": "code",
   "execution_count": 7,
   "id": "7c7fbc75",
   "metadata": {},
   "outputs": [
    {
     "name": "stdout",
     "output_type": "stream",
     "text": [
      "200 0.5\n"
     ]
    }
   ],
   "source": [
    "from PythonFiles.Module import multiplication, division\n",
    "print(multiplication(10,20), division(10,20))"
   ]
  },
  {
   "cell_type": "markdown",
   "id": "945aa839",
   "metadata": {},
   "source": [
    "### 6. Create a python if-else program to check if the given numbers are greater or not, also check whether the given number is an armstrong number or not, and check whether the given number is a prime number or not. Make use of python if-else, and elif statements for the same."
   ]
  },
  {
   "cell_type": "code",
   "execution_count": 4,
   "id": "97429da7",
   "metadata": {},
   "outputs": [
    {
     "name": "stdout",
     "output_type": "stream",
     "text": [
      "Enter a number: 4\n",
      "4 is a Armstrong Number.\n",
      "4 is not a Prime Number\n"
     ]
    }
   ],
   "source": [
    "def is_armstrong(n):\n",
    "    sum1 = 0\n",
    "    lengt = len(str(n))\n",
    "    for i in str(n):\n",
    "        sum1 += int(i)**lengt\n",
    "    if sum1 == n: return True\n",
    "    return False\n",
    "\n",
    "def is_prime(n):\n",
    "    if n==1: return False\n",
    "    elif n>1: \n",
    "        for i in range(2, int(n/2+1)):\n",
    "            if n%i == 0:\n",
    "                return False\n",
    "        return True\n",
    "\n",
    "input1 = eval(input(\"Enter a number: \"))\n",
    "if input1 > 0:\n",
    "    if is_armstrong(input1): print(f\"{input1} is a Armstrong Number.\")\n",
    "    else: print(f\"{input1} is not an Armstrong Number\")\n",
    "    \n",
    "    if is_prime(input1): print(f\"{input1} is a Prime Number.\")\n",
    "    else: print(f\"{input1} is not a Prime Number\")"
   ]
  },
  {
   "cell_type": "markdown",
   "id": "04c1c375",
   "metadata": {},
   "source": [
    "### 7. Create a calculator program for addition, subtraction, multiplication and floor division. \n",
    "- Take the inputs from the user, and based on the choice of operation, return the results."
   ]
  },
  {
   "cell_type": "code",
   "execution_count": 32,
   "id": "d99b2648",
   "metadata": {},
   "outputs": [
    {
     "name": "stdout",
     "output_type": "stream",
     "text": [
      "Enter First Number: 12\n",
      "Enter Second Number: 15\n",
      "Enter Operation : + , - , * , //(FD) FD\n",
      "Floor Division is:  0\n",
      "Do you want to Continue: Y / N : Y\n",
      "Enter Operation : + , - , * , //(FD) *\n",
      "Multiplication is:  180\n",
      "Do you want to Continue: Y / N : n\n"
     ]
    }
   ],
   "source": [
    "a = eval(input(\"Enter First Number: \"))\n",
    "b = eval(input(\"Enter Second Number: \"))\n",
    "again = True\n",
    "while again:\n",
    "    c = input('Enter Operation : + , - , * , //(FD) ')\n",
    "    if c=='+': print(\"Addition is: \", a+b) \n",
    "    elif c=='-': print(\"Subtraction is: \", a-b)\n",
    "    elif c=='*': print(\"Multiplication is: \", a*b)\n",
    "    elif c=='FD': print(\"Floor Division is: \", a//b)\n",
    "    else: print(\"Invalid Operation\")\n",
    "    again = input(\"Do you want to Continue: Y / N : \")\n",
    "    if again == 'N' or again == 'n': break"
   ]
  },
  {
   "cell_type": "markdown",
   "id": "c67320b1",
   "metadata": {},
   "source": [
    "### 8. Create a fibonacci sequence using python if-else statements."
   ]
  },
  {
   "cell_type": "code",
   "execution_count": 22,
   "id": "3ec5da0e",
   "metadata": {},
   "outputs": [
    {
     "name": "stdout",
     "output_type": "stream",
     "text": [
      "How many terms? 11\n",
      "Fibonacci sequence:\n",
      "[0, 1, 1, 2, 3, 5, 8, 13, 21, 34, 55]\n"
     ]
    }
   ],
   "source": [
    "nterms = int(input(\"How many terms? \"))\n",
    "\n",
    "# first two terms\n",
    "n1, n2 = 0, 1\n",
    "count = 0\n",
    "output = []\n",
    "# check if the number of terms is valid\n",
    "if nterms <= 0:\n",
    "    print(\"Please enter a positive integer\")\n",
    "# if there is only one term, return n1\n",
    "elif nterms == 1:\n",
    "    print(\"Fibonacci sequence upto\",nterms,\":\")\n",
    "    print(n1)\n",
    "# generate fibonacci sequence\n",
    "else:\n",
    "    print(\"Fibonacci sequence:\")\n",
    "    while count < nterms:\n",
    "        output.append(n1)\n",
    "        nth = n1 + n2\n",
    "        # update values\n",
    "        n1 = n2\n",
    "        n2 = nth\n",
    "        count += 1\n",
    "    print(output)"
   ]
  },
  {
   "cell_type": "markdown",
   "id": "e8745361",
   "metadata": {},
   "source": [
    "### 9. Create a nested dictionary with values as a nested list for each key in the dictionary."
   ]
  },
  {
   "cell_type": "code",
   "execution_count": 16,
   "id": "4276c5fa",
   "metadata": {},
   "outputs": [
    {
     "name": "stdout",
     "output_type": "stream",
     "text": [
      "{'Jane': [102, ['24Hello', 'Arlington'], 'Jennifer'], 'Jack': [34124, 3441241, ['hello123', '3242']], 'John': [[], [], 324, 234, 234]}\n"
     ]
    }
   ],
   "source": [
    "dictionary = {\n",
    "    'Jane': [102, ['24Hello', 'Arlington'], 'Jennifer'],\n",
    "    'Jack': [34124,3441241, ['hello123', '3242']],\n",
    "    'John': [[], [], 324,234,234]\n",
    "}\n",
    "print(dictionary)"
   ]
  },
  {
   "cell_type": "markdown",
   "id": "f44f1e11",
   "metadata": {},
   "source": [
    "### 10. Create two sets and perform the following:\n",
    "- a. Union of the two sets\n",
    "- b. Intersection of the two sets"
   ]
  },
  {
   "cell_type": "code",
   "execution_count": 10,
   "id": "080a5f01",
   "metadata": {},
   "outputs": [
    {
     "name": "stdout",
     "output_type": "stream",
     "text": [
      "Union is {1, 2, 3, 4, 5, 6, 66, 33, 7, 8, 9}\n",
      "Intersection is {3, 4, 5, 6}\n"
     ]
    }
   ],
   "source": [
    "a = {1,2,3,4,5,6,66}\n",
    "b = {3,4,5,6,7,8,9,33}\n",
    "print(f\"Union is {a|b}\")\n",
    "print(f\"Intersection is {a&b}\")"
   ]
  },
  {
   "cell_type": "markdown",
   "id": "c899e22d",
   "metadata": {},
   "source": [
    "### 11. Create a nested tuple from the dictionary, with each item in the tuple as a key value pair from the dictionary."
   ]
  },
  {
   "cell_type": "code",
   "execution_count": 12,
   "id": "e1e1e4d5",
   "metadata": {},
   "outputs": [
    {
     "name": "stdout",
     "output_type": "stream",
     "text": [
      "(('United States', 'Washington D.C.'), ('Italy', 'Rome'), ('England', 'London'))\n"
     ]
    }
   ],
   "source": [
    "country_capitals = {\n",
    "  \"United States\": \"Washington D.C.\", \n",
    "  \"Italy\": \"Rome\", \n",
    "  \"England\": \"London\"\n",
    "}\n",
    "\n",
    "print(tuple((i,j) for i,j in country_capitals.items()))"
   ]
  },
  {
   "cell_type": "markdown",
   "id": "a0228619",
   "metadata": {},
   "source": [
    "### 12. Create a list of the first 50 even natural numbers, and perform the following operations.\n",
    "- c. Count the number of elements in the list.\n",
    "- d. Reverse the sequence of the list.\n",
    "- e. Sort the list in ascending and descending order.\n",
    "- f. Get the index value for the element 44, and update the element with the number 100.\n",
    "- g. Return a copy of the list, with the resulting list containing the square of eachelement."
   ]
  },
  {
   "cell_type": "code",
   "execution_count": 14,
   "id": "16bdf9e4",
   "metadata": {},
   "outputs": [
    {
     "name": "stdout",
     "output_type": "stream",
     "text": [
      "Original List of Naturual Numbers is:  [1, 2, 3, 4, 5, 6, 7, 8, 9, 10, 11, 12, 13, 14, 15, 16, 17, 18, 19, 20, 21, 22, 23, 24, 25, 26, 27, 28, 29, 30, 31, 32, 33, 34, 35, 36, 37, 38, 39, 40, 41, 42, 43, 44, 45, 46, 47, 48, 49, 50]\n",
      "Reversed List is:  [50, 49, 48, 47, 46, 45, 44, 43, 42, 41, 40, 39, 38, 37, 36, 35, 34, 33, 32, 31, 30, 29, 28, 27, 26, 25, 24, 23, 22, 21, 20, 19, 18, 17, 16, 15, 14, 13, 12, 11, 10, 9, 8, 7, 6, 5, 4, 3, 2, 1]\n"
     ]
    }
   ],
   "source": [
    "l = [i for i in range(1,51)]\n",
    "print(\"Original List of Naturual Numbers is: \", l)\n",
    "print(\"Reversed List is: \", l[::-1])"
   ]
  },
  {
   "cell_type": "markdown",
   "id": "56d3c643",
   "metadata": {},
   "source": [
    "### 13. Create a nested dictionary and perform the following operations.\n",
    "- h. Return a list with the key value pairs from the dictionary.\n",
    "- i. Return a list with just the keys from the dictionary.\n",
    "- j. Remove the first and last key value from the dictionary.\n",
    "- k. Update the last key value pair in the dictionary after removing in the 3rd step."
   ]
  },
  {
   "cell_type": "code",
   "execution_count": 15,
   "id": "85aee24f",
   "metadata": {},
   "outputs": [
    {
     "name": "stdout",
     "output_type": "stream",
     "text": [
      "After deleting first and last items: {'child2': {'name': 'Tobias', 'year': 2007}, 'child3': {'name': 'Linus', 'year': 2011}}\n",
      "Final Dictionary is: {'child2': {'name': 'Tobias', 'year': 2007}, 'child3': {'Updated Value': 'Last child update'}}\n"
     ]
    }
   ],
   "source": [
    "myfamily = {\n",
    "  \"child1\" : {\n",
    "    \"name\" : \"Emil\",\n",
    "    \"year\" : 2004\n",
    "  },\n",
    "  \"child2\" : {\n",
    "    \"name\" : \"Tobias\",\n",
    "    \"year\" : 2007\n",
    "  },\n",
    "  \"child3\" : {\n",
    "    \"name\" : \"Linus\",\n",
    "    \"year\" : 2011\n",
    "  },\n",
    "  \"child4\" : {\n",
    "    \"name\" : \"Jupyter\",\n",
    "    \"year\" : 2015\n",
    "  }\n",
    "}\n",
    "\n",
    "keyValues = [(i,j) for i, j in myfamily.items()]\n",
    "keys = [i for i in myfamily.keys()]\n",
    "valueLast  = myfamily.popitem()\n",
    "valueFirst = myfamily.pop(list(myfamily.keys())[0])\n",
    "print(f\"After deleting first and last items: {myfamily}\")\n",
    "myfamily.update({list(myfamily.keys())[-1]: {'Updated Value': 'Last child update'}})\n",
    "print(f\"Final Dictionary is: {myfamily}\")"
   ]
  },
  {
   "cell_type": "markdown",
   "id": "fb041c93",
   "metadata": {},
   "source": [
    "#### 14. For the given strings A = “Python Programming Language”, B = “Best in the World” , perform the following operations.\n",
    "- l. Using indexing operations, get the text “gram” from the string A.\n",
    "- m. Using indexing operations, get the text “World” from the string B.\n",
    "- n. Change the letters in both strings to Uppercase letters.\n",
    "- o. Concatenate the two strings."
   ]
  },
  {
   "cell_type": "code",
   "execution_count": 21,
   "id": "de4a80ad",
   "metadata": {},
   "outputs": [
    {
     "name": "stdout",
     "output_type": "stream",
     "text": [
      "gram\n",
      "gram\n",
      "World\n",
      "PYTHON PROGRAMMING LANGUAGE\n",
      "BEST IN THE WORLD\n",
      "Python Programming Language Best in the World\n"
     ]
    }
   ],
   "source": [
    "A = 'Python Programming Language'\n",
    "B = 'Best in the World'\n",
    "print(A[10:14])\n",
    "print(A[A.index('gram'): A.index('gram')+4])\n",
    "\n",
    "ext = 'World'\n",
    "print(B[B.index(ext): B.index(ext)+len(ext)])\n",
    "\n",
    "print(A.upper(), B.upper(), sep='\\n')\n",
    "\n",
    "print(A + \" \" + B)"
   ]
  },
  {
   "cell_type": "markdown",
   "id": "7ec59fd4",
   "metadata": {},
   "source": [
    "#### 15. Create a list with n numbers, and using negative indexing return the list starting from the 5th index to the n-2th index."
   ]
  },
  {
   "cell_type": "code",
   "execution_count": 25,
   "id": "9b06d644",
   "metadata": {},
   "outputs": [
    {
     "name": "stdout",
     "output_type": "stream",
     "text": [
      "[1, 2, 3, 4, 5, 6, 7, 8, 9, 10]\n",
      "[6, 7, 8, 9]\n"
     ]
    }
   ],
   "source": [
    "l = [i for i in range(1, 11)]\n",
    "print(l)\n",
    "print(l[5:-1])"
   ]
  },
  {
   "cell_type": "markdown",
   "id": "1f86ab93",
   "metadata": {},
   "source": [
    "#### 16. Using range(), create a list with numbers ranging from 5-100, and the number of elements should be exactly 19."
   ]
  },
  {
   "cell_type": "code",
   "execution_count": 32,
   "id": "abd3d182",
   "metadata": {},
   "outputs": [
    {
     "name": "stdout",
     "output_type": "stream",
     "text": [
      "[5, 10, 15, 20, 25, 30, 35, 40, 45, 50, 55, 60, 65, 70, 75, 80, 85, 90, 95] 19\n",
      "[5, 10, 15, 20, 25, 30, 35, 40, 45, 50, 55, 60, 65, 70, 75, 80, 85, 90, 95] 19\n"
     ]
    }
   ],
   "source": [
    "l = list(i for i in range(5, 99) if i%5 == 0 )\n",
    "print(l, len(l))\n",
    "\n",
    "l = [i for i in range(5, 99, 5)]\n",
    "print(l, len(l))"
   ]
  },
  {
   "cell_type": "code",
   "execution_count": null,
   "id": "5f3c22d4",
   "metadata": {},
   "outputs": [],
   "source": []
  },
  {
   "cell_type": "markdown",
   "id": "038c2e2d",
   "metadata": {},
   "source": [
    "# Getting Started with Python (Hands-on 2)"
   ]
  },
  {
   "cell_type": "markdown",
   "id": "ad3fecc6",
   "metadata": {},
   "source": [
    "#### 1. For a given list that contains numbers from 1 to 20. Using a for loop, create a new list that contains the square of each element from the given list.\n"
   ]
  },
  {
   "cell_type": "code",
   "execution_count": 34,
   "id": "06fe49b9",
   "metadata": {},
   "outputs": [
    {
     "name": "stdout",
     "output_type": "stream",
     "text": [
      "[1, 4, 9, 16, 25, 36, 49, 64, 81, 100, 121, 144, 169, 196, 225, 256, 289, 324, 361, 400]\n",
      "[1, 4, 9, 16, 25, 36, 49, 64, 81, 100, 121, 144, 169, 196, 225, 256, 289, 324, 361, 400]\n"
     ]
    }
   ],
   "source": [
    "l1 = [i for i in range(1, 21)]\n",
    "l2 = []\n",
    "for i in l1:\n",
    "    l2.append(i*i)\n",
    "print(l2)\n",
    "print([i*i for i in [j for j in range(1,21)]])"
   ]
  },
  {
   "cell_type": "markdown",
   "id": "d606cd29",
   "metadata": {},
   "source": [
    "#### 2. For a given dictionary that contains numbers from 1-10 as keys, and their square as values, display each key-value pair using a for loop."
   ]
  },
  {
   "cell_type": "code",
   "execution_count": 38,
   "id": "bb7ce32b",
   "metadata": {},
   "outputs": [
    {
     "name": "stdout",
     "output_type": "stream",
     "text": [
      "1 1\n",
      "2 4\n",
      "3 9\n",
      "4 16\n",
      "5 25\n",
      "6 36\n",
      "7 49\n",
      "8 64\n",
      "9 81\n",
      "10 100\n"
     ]
    }
   ],
   "source": [
    "# d = dict.fromkeys(range(1,11), True)\n",
    "myDict = {x: x**2 for x in range(1,11)}\n",
    "for i, j in myDict.items():\n",
    "    print(i, j)"
   ]
  },
  {
   "cell_type": "markdown",
   "id": "438cb73d",
   "metadata": {},
   "source": [
    "#### 3. A tuple contains even numbers from 1-20. Display all the items in a tuple using a for loop."
   ]
  },
  {
   "cell_type": "code",
   "execution_count": 39,
   "id": "5f758437",
   "metadata": {},
   "outputs": [
    {
     "name": "stdout",
     "output_type": "stream",
     "text": [
      "2\n",
      "4\n",
      "6\n",
      "8\n",
      "10\n",
      "12\n",
      "14\n",
      "16\n",
      "18\n",
      "20\n"
     ]
    }
   ],
   "source": [
    "t = (i for i in range(1,21) if i%2 == 0)\n",
    "for i in t:\n",
    "    print(i)"
   ]
  },
  {
   "cell_type": "markdown",
   "id": "ce79f1f5",
   "metadata": {},
   "source": [
    "#### 4. A set contains odd numbers from 1-20. Display the items in a set using a for loop."
   ]
  },
  {
   "cell_type": "code",
   "execution_count": 41,
   "id": "de75bce2",
   "metadata": {},
   "outputs": [
    {
     "name": "stdout",
     "output_type": "stream",
     "text": [
      "1\n",
      "3\n",
      "5\n",
      "7\n",
      "9\n",
      "11\n",
      "13\n",
      "15\n",
      "17\n",
      "19\n"
     ]
    }
   ],
   "source": [
    "s = {i for i in range(1,21) if i%2 != 0}\n",
    "for i in s: print(i)"
   ]
  },
  {
   "cell_type": "markdown",
   "id": "fd8bd474",
   "metadata": {},
   "source": [
    "#### 5. For a given sequence of nested lists, display the elements using a for loop.\n",
    "- a = [[1,2],[3,4],[5,6],[7,8]]"
   ]
  },
  {
   "cell_type": "code",
   "execution_count": 43,
   "id": "516b73cf",
   "metadata": {},
   "outputs": [
    {
     "name": "stdout",
     "output_type": "stream",
     "text": [
      "[1, 2]\n",
      "1\n",
      "2\n",
      "[3, 4]\n",
      "3\n",
      "4\n",
      "[5, 6]\n",
      "5\n",
      "6\n",
      "[7, 8]\n",
      "7\n",
      "8\n"
     ]
    }
   ],
   "source": [
    "a = [[1,2],[3,4],[5,6],[7,8]]\n",
    "for i in a:\n",
    "    print(i)\n",
    "    for j in i:\n",
    "        print(j)"
   ]
  },
  {
   "cell_type": "markdown",
   "id": "6fc345c7",
   "metadata": {},
   "source": [
    "#### 6. For a given sequence of nested dictionaries, display all the values in the dictionary.\n",
    "- a = {1: {'one':1}, 2: {'two':2}, 3: {'three':3}}"
   ]
  },
  {
   "cell_type": "code",
   "execution_count": 56,
   "id": "62a1429b",
   "metadata": {},
   "outputs": [
    {
     "name": "stdout",
     "output_type": "stream",
     "text": [
      "{'one': 1}\n",
      "1\n",
      "{'two': 2}\n",
      "2\n",
      "{'three': 3}\n",
      "3\n"
     ]
    }
   ],
   "source": [
    "a = {1: {'one':1}, 2: {'two':2}, 3: {'three':3}}\n",
    "for i in a:\n",
    "    print(a[i])\n",
    "    for j in a[i]:\n",
    "        print(a[i][j])"
   ]
  },
  {
   "cell_type": "markdown",
   "id": "bdbd3972",
   "metadata": {},
   "source": [
    "#### 7. For a given list of natural numbers from 1-100, using the while loop, print only the numbers that are divisible by 2."
   ]
  },
  {
   "cell_type": "code",
   "execution_count": 60,
   "id": "ac463907",
   "metadata": {},
   "outputs": [
    {
     "name": "stdout",
     "output_type": "stream",
     "text": [
      "[2, 4, 6, 8, 10, 12, 14, 16, 18, 20, 22, 24, 26, 28, 30, 32, 34, 36, 38, 40, 42, 44, 46, 48, 50, 52, 54, 56, 58, 60, 62, 64, 66, 68, 70, 72, 74, 76, 78, 80, 82, 84, 86, 88, 90, 92, 94, 96, 98, 100]\n"
     ]
    }
   ],
   "source": [
    "l = [i for i in range(1, 101)]\n",
    "l2 = []\n",
    "i = 0\n",
    "while i < len(l):\n",
    "    if l[i]%2==0 :\n",
    "        l2.append(l[i])\n",
    "    i += 1\n",
    "print(l2)"
   ]
  },
  {
   "cell_type": "markdown",
   "id": "740603f3",
   "metadata": {},
   "source": [
    "#### 8. Print the first 5 multiples of 3 using a while loop."
   ]
  },
  {
   "cell_type": "code",
   "execution_count": 64,
   "id": "b314d9ec",
   "metadata": {},
   "outputs": [
    {
     "name": "stdout",
     "output_type": "stream",
     "text": [
      "3\n",
      "6\n",
      "9\n",
      "12\n",
      "15\n"
     ]
    }
   ],
   "source": [
    "count = 1\n",
    "while count <= 5:\n",
    "    print((count)*3)\n",
    "    count += 1"
   ]
  },
  {
   "cell_type": "markdown",
   "id": "4d5c0eb0",
   "metadata": {},
   "source": [
    "#### 9. For a given dictionary that contains the first 10 natural numbers as keys, and their cubes as values, display the key value pairs using a while loop."
   ]
  },
  {
   "cell_type": "code",
   "execution_count": 67,
   "id": "fa8e4a74",
   "metadata": {},
   "outputs": [
    {
     "name": "stdout",
     "output_type": "stream",
     "text": [
      "1 1\n",
      "2 8\n",
      "3 27\n",
      "4 64\n",
      "5 125\n",
      "6 216\n",
      "7 343\n",
      "8 512\n",
      "9 729\n",
      "10 1000\n"
     ]
    }
   ],
   "source": [
    "d = dict(zip([i for i in range(1,11)], [i**3 for i in range(1,11)]))\n",
    "i = 0\n",
    "keys1 = list(d.keys())\n",
    "while i < len(d):\n",
    "    print(keys1[i], d[keys1[i]])\n",
    "    i += 1"
   ]
  },
  {
   "cell_type": "markdown",
   "id": "7bab2f5c",
   "metadata": {},
   "source": [
    "#### 10. Write a program using a while loop demonstrating the usage of break, continue and pass statements along with if else statements."
   ]
  },
  {
   "cell_type": "code",
   "execution_count": 73,
   "id": "a220aec1",
   "metadata": {},
   "outputs": [
    {
     "name": "stdout",
     "output_type": "stream",
     "text": [
      "1\n",
      "3\n",
      "5\n",
      "7\n",
      "9\n",
      "11\n",
      "13\n",
      "15\n"
     ]
    }
   ],
   "source": [
    "i = 0\n",
    "while i < 30:\n",
    "    i += 1\n",
    "    if i % 2 == 0: \n",
    "        continue\n",
    "    elif i %15 == 0:\n",
    "        print(i)\n",
    "        break\n",
    "    else: \n",
    "        print(i)\n",
    "        pass\n",
    "    "
   ]
  },
  {
   "cell_type": "markdown",
   "id": "7571a613",
   "metadata": {},
   "source": [
    "#### 11. Write a program using a for loop demonstrating the usage of break, continue and pass statements along with if else statements."
   ]
  },
  {
   "cell_type": "code",
   "execution_count": 75,
   "id": "0e232533",
   "metadata": {},
   "outputs": [
    {
     "name": "stdout",
     "output_type": "stream",
     "text": [
      "1\n",
      "3\n",
      "5\n",
      "7\n",
      "9\n",
      "11\n",
      "13\n",
      "15\n"
     ]
    }
   ],
   "source": [
    "for i in range(1, 31):\n",
    "    if i % 2 == 0: \n",
    "        continue\n",
    "    elif i %15 == 0:\n",
    "        print(i)\n",
    "        break\n",
    "    else: \n",
    "        print(i)\n",
    "        pass"
   ]
  },
  {
   "cell_type": "markdown",
   "id": "1facc3b8",
   "metadata": {},
   "source": [
    "#### 12. Create a nested for loop to print a pyramid pattern program in python."
   ]
  },
  {
   "cell_type": "code",
   "execution_count": 76,
   "id": "6b0f4562",
   "metadata": {},
   "outputs": [
    {
     "name": "stdout",
     "output_type": "stream",
     "text": [
      "Enter number of rows: 8\n",
      "* \n",
      "\n",
      "* * \n",
      "\n",
      "* * * \n",
      "\n",
      "* * * * \n",
      "\n",
      "* * * * * \n",
      "\n",
      "* * * * * * \n",
      "\n",
      "* * * * * * * \n",
      "\n",
      "* * * * * * * * \n",
      "\n"
     ]
    }
   ],
   "source": [
    "rows = int(input(\"Enter number of rows: \"))\n",
    "\n",
    "for i in range(rows):\n",
    "    for j in range(i+1):\n",
    "        print(\"* \", end=\"\")\n",
    "    print(\"\\n\")"
   ]
  },
  {
   "cell_type": "code",
   "execution_count": null,
   "id": "b789d20f",
   "metadata": {},
   "outputs": [],
   "source": []
  },
  {
   "cell_type": "markdown",
   "id": "c19f8cb7",
   "metadata": {},
   "source": [
    "# Advance Python Hands-on -- Module 1 - Getting Started with Python"
   ]
  },
  {
   "cell_type": "markdown",
   "id": "ba150f2d",
   "metadata": {},
   "source": [
    "#### 1. You have a bag of chocolates which you need to distribute to a queue of people.\n",
    "- Assuming you have more chocolates than people, write a program that distributes chocolates using the following logic\n",
    "- a. ith person in the queue gets 2i chocolates.\n",
    "- b. If chocolates are still left over after the first iteration of the queue, continue distribution till all chocolates are exhausted or they cannot be distributed any further while conforming to our logic.\n",
    "- Print the total chocolates each person has at the end of this process"
   ]
  },
  {
   "cell_type": "code",
   "execution_count": 80,
   "id": "b1b40eb0",
   "metadata": {},
   "outputs": [
    {
     "name": "stdout",
     "output_type": "stream",
     "text": [
      "Enter Number of Chocolates: 30\n",
      "Enter Number of People in the Queue: 4\n",
      "{'P1': 4, 'P2': 8, 'P3': 12, 'P4': 16}\n"
     ]
    }
   ],
   "source": [
    "chocolates = eval(input(\"Enter Number of Chocolates: \"))\n",
    "people = eval(input(\"Enter Number of People in the Queue: \"))\n",
    "people_names = [f\"P{i}\" for i in range(1, people+1)]\n",
    "people_dict = dict.fromkeys(people_names , 0)\n",
    "\n",
    "while chocolates > 0:\n",
    "    for i in range(1, people+1):\n",
    "        people_dict[f\"P{i}\"] = people_dict[f\"P{i}\"]+ 2*i\n",
    "        chocolates -= 2*i\n",
    "print(people_dict)"
   ]
  },
  {
   "cell_type": "markdown",
   "id": "5392478e",
   "metadata": {},
   "source": [
    "#### 2. You are given a list of lists. Each element of the nested list is a tuple of three positive values, each of them between 0 and 255. Write a function which, when given such a list of lists as input, and a target tuple value (x,y,z) returns the following :\n",
    "- a. A list of dictionaries where the first dictionary in the list represents the points closest to the target tuple value and dictionary contains the following keys\n",
    "-- i. “Points” : contains a list of the tuples from our list of lists ii. “Distances”:\n",
    "    contains the corresponding list of distances between the target tuple and the list of tuples present under\n",
    "the key “Point” \n",
    "---->     The above structure is used to address the scenario where multiple points are the same distance away from the target tuple\n",
    "- e.g the list of lists looks like so [[(0,23,55), (100,34,2)], [(255,3,0), (55,250,77)]] and a target tuple looks like (9,9,9)"
   ]
  },
  {
   "cell_type": "code",
   "execution_count": 91,
   "id": "3d6997f2",
   "metadata": {},
   "outputs": [
    {
     "name": "stdout",
     "output_type": "stream",
     "text": [
      "[(0, 23, 55), (100, 34, 2), (0, 55, 23), (255, 3, 0), (55, 250, 77)]\n",
      "[49, 95, 49, 246, 255]\n",
      "[{'Points': [(0, 23, 55), (100, 34, 2), (0, 55, 23), (255, 3, 0), (55, 250, 77)]}, {'Distances': [49, 95, 49, 246, 255]}]\n",
      "[{'Points': [(0, 23, 55), (0, 55, 23)]}, {'Distances': [49, 49]}]\n"
     ]
    }
   ],
   "source": [
    "import math\n",
    "list1 =  [[(0,23,55), (100,34,2), (0, 55, 23)], [(255,3,0), (55,250,77)]]\n",
    "target = (9, 9, 9)\n",
    "\n",
    "def find_closest(list1, target):\n",
    "    Points = []\n",
    "    Distances = []\n",
    "    for i in range(0, len(list1)):\n",
    "        for j in range(0, len(list1[i])):\n",
    "            Points.append(list1[i][j])\n",
    "            Distances.append(round(math.dist(list(list1[i][j]), target)))\n",
    "    print(Points)\n",
    "    print(Distances)\n",
    "    minimum = min(Distances) \n",
    "    points2, distances2 = [], []\n",
    "    \n",
    "    for i in range(0, len(Distances)): \n",
    "        if minimum-5 <= Distances[i] <= minimum+5: \n",
    "            points2.append(Points[i])\n",
    "            distances2.append(Distances[i])\n",
    "    output = [{\"Points\": points2}, {\"Distances\": distances2} ]\n",
    "    list_of_distances = [{\"Points\": Points}, {\"Distances\": Distances} ]\n",
    "    print(list_of_distances)\n",
    "    return output\n",
    "\n",
    "print(find_closest(list1, target))"
   ]
  },
  {
   "cell_type": "code",
   "execution_count": null,
   "id": "1acfbdba",
   "metadata": {},
   "outputs": [],
   "source": []
  },
  {
   "cell_type": "markdown",
   "id": "10ae3e62",
   "metadata": {},
   "source": [
    "### 3. Write a function that takes in a list of lists and two indices i and j as input and prints the following\n",
    "- a. the ith row of the matrix\n",
    "- b. the jth column of the matrix\n",
    "- c. the ijth element of the matrix\n",
    "- e.g. a equivalence between matrix and list is shown below\n",
    "[1,2,3 [[1,2,3],[4,5,6],[7,8,9]]\n",
    "4,5,6 →\n",
    "7,8,9]"
   ]
  },
  {
   "cell_type": "code",
   "execution_count": 97,
   "id": "8d8a5876",
   "metadata": {},
   "outputs": [
    {
     "name": "stdout",
     "output_type": "stream",
     "text": [
      "ith row of the matrix:  [4, 5, 6]\n",
      "jth column of the matrix:  [2, 5, 8]\n",
      "ijth element of the matrix:  5\n"
     ]
    }
   ],
   "source": [
    "input =  [[1,2,3],[4,5,6],[7,8,9]]\n",
    "def print_matrix(a, i, j):\n",
    "    print(\"ith row of the matrix: \", [a[i][k] for k in range(len(a[i]))])\n",
    "    print(\"jth column of the matrix: \", [a[k][j] for k in range(len(a))])\n",
    "    print(\"ijth element of the matrix: \", a[i][j])\n",
    "print_matrix(input, 1, 1)"
   ]
  },
  {
   "cell_type": "code",
   "execution_count": null,
   "id": "0c1daf1b",
   "metadata": {},
   "outputs": [],
   "source": []
  },
  {
   "cell_type": "markdown",
   "id": "6fb12adb",
   "metadata": {},
   "source": [
    "#### 4. Given a list of numbers (which can either be positive or negative), write a function which performs the following\n",
    "- a. Accepts an offset as a positive integer\n",
    "- b. Accepts a sort order string i.e. “asc” or “desc”. If “asc” is given as input, it sorts this list of numbers in ascending order, and if “desc” is given as input, it sorts this list of numbers in descending order\n",
    "- c. After sorting generates a new ordered sequence of numbers where the jth number (j starts from 1) in the sequence is the product of the jth number in the list till ith number (i starts from 1) where i = j offset e.g. if the sorted list is [5,6,7,8,9] and if offset is 3 then the sequence would be [None,None, None,1680, 3024] where 1680 = 8*7*6*5 and 3024 = 9*8*7*6\n",
    "- d. Write another function for the new condition where the jth number in the sequence is the product of the jth number in the list till ith number where i = j+offset"
   ]
  },
  {
   "cell_type": "code",
   "execution_count": 121,
   "id": "2f0c0088",
   "metadata": {},
   "outputs": [
    {
     "name": "stdout",
     "output_type": "stream",
     "text": [
      "([-314, -12, 11, 21, 51, 134, 312, 324, 11232], [None, None, None, 870408, -141372, 1578654, 44776368, 690835392, 152146335744])\n"
     ]
    }
   ],
   "source": [
    "from functools import reduce\n",
    "input = [324,134,11,21, -12,-314, 312, 11232, 51 ]\n",
    "# input =  [5,6,7,8,9] \n",
    "def generator1 (offset, input, sort):\n",
    "    if offset < 0: return False\n",
    "    elif sort == 'asc':   input.sort()\n",
    "    elif sort == 'desc':  input.sort(reverse = True) \n",
    "    \n",
    "    output = []\n",
    "    for m in range(offset): output.append(None)\n",
    "    for m in range(len(input) - offset):\n",
    "        value = reduce((lambda x, y : x*y), input[m : offset+m+1])\n",
    "        output.append(value)\n",
    "        \n",
    "    return (input, output)\n",
    "        \n",
    "print(generator1(3, input, 'asc'))"
   ]
  },
  {
   "cell_type": "code",
   "execution_count": null,
   "id": "b17ea990",
   "metadata": {},
   "outputs": [],
   "source": []
  },
  {
   "cell_type": "markdown",
   "id": "e19c87ec",
   "metadata": {},
   "source": [
    "#### 5. Given a string containing opening and closing braces verify if the string is balanced or not with regards to opening and closing braces. The braces can be () or {} or [] and any combination of these"
   ]
  },
  {
   "cell_type": "code",
   "execution_count": 130,
   "id": "29f83450",
   "metadata": {},
   "outputs": [
    {
     "name": "stdout",
     "output_type": "stream",
     "text": [
      "Balanced\n"
     ]
    }
   ],
   "source": [
    "# exp = '[()]{}{[()()]()}'\n",
    "exp = '(){{[]}}'\n",
    "opening_braces = '({['\n",
    "closing_braces = ')}]'\n",
    "flag = True\n",
    "stac = []\n",
    "for i in exp:\n",
    "    if i in opening_braces: \n",
    "        stac.append(i)\n",
    "    else:\n",
    "        if not stac: \n",
    "            print(\"False not stac\")\n",
    "            flag = False\n",
    "        e = opening_braces.index(stac.pop())\n",
    "        if i != closing_braces[e]:\n",
    "            flag = False\n",
    "if stac: flag = False\n",
    "if flag: print(\"Balanced\")\n",
    "else: print(\"Not Balanced\")"
   ]
  },
  {
   "cell_type": "markdown",
   "id": "39c74509",
   "metadata": {},
   "source": [
    "#### 6. Implement horner’s method for polynomial evaluation"
   ]
  },
  {
   "cell_type": "code",
   "execution_count": 5,
   "id": "98cc748b",
   "metadata": {},
   "outputs": [
    {
     "name": "stdout",
     "output_type": "stream",
     "text": [
      "Value of polynomial is  5\n"
     ]
    }
   ],
   "source": [
    "def horner(poly, n, x):\n",
    " \n",
    "    # Initialize result\n",
    "    result = poly[0]  \n",
    "  \n",
    "    # Evaluate value of polynomial\n",
    "    # using Horner's method\n",
    "    for i in range(1, n):\n",
    " \n",
    "        result = result*x + poly[i]\n",
    "  \n",
    "    return result\n",
    "  \n",
    "# Driver program to\n",
    "# test above function.\n",
    " \n",
    "# Let us evaluate value of\n",
    "# 2x3 - 6x2 + 2x - 1 for x = 3\n",
    "poly = [2, -6, 2, -1]\n",
    "x = 3\n",
    "n = len(poly)\n",
    " \n",
    "print(\"Value of polynomial is \" , horner(poly, n, x))"
   ]
  },
  {
   "cell_type": "markdown",
   "id": "6803a979",
   "metadata": {},
   "source": [
    "#### 7. Compute the autocorrelation of a signal for a given lag. Lag can go from 1 to N-2 where N is the length of the signal"
   ]
  },
  {
   "cell_type": "code",
   "execution_count": null,
   "id": "c2dfaa79",
   "metadata": {},
   "outputs": [],
   "source": []
  },
  {
   "cell_type": "code",
   "execution_count": null,
   "id": "a24dfc0b",
   "metadata": {},
   "outputs": [],
   "source": []
  },
  {
   "cell_type": "code",
   "execution_count": 29,
   "id": "c4bf0977",
   "metadata": {},
   "outputs": [
    {
     "name": "stdout",
     "output_type": "stream",
     "text": [
      "Three\n"
     ]
    }
   ],
   "source": [
    "X = 10\n",
    "if X >= 0:\n",
    "    if X == 0:\n",
    "        print('None')\n",
    "    elif X //2 == 1:\n",
    "        print('Two')\n",
    "    elif X**2 ==100:\n",
    "        if X%2 == 0:\n",
    "            print(\"Three\")\n",
    "        else:\n",
    "            print(\"Four\")\n",
    "    else:\n",
    "        print(\"Five\")\n",
    "else:\n",
    "        print(\"Six\")"
   ]
  },
  {
   "cell_type": "code",
   "execution_count": 61,
   "id": "bfb5d122",
   "metadata": {},
   "outputs": [],
   "source": [
    "class Poly:\n",
    "    def __init__(self):\n",
    "        self.name = 'Rajesh'\n",
    "        self.age = 29\n",
    "    def view(self):\n",
    "        return None\n",
    "class Child(Poly):\n",
    "    def __init__(self):\n",
    "        Poly.__init__(self)\n",
    "    def view(self):\n",
    "        self.prof = \"Student\"\n",
    "        super().view()\n",
    "        return None\n",
    "\n",
    "obj = Poly()\n",
    "obj.view()"
   ]
  },
  {
   "cell_type": "code",
   "execution_count": 62,
   "id": "7cf9f90d",
   "metadata": {},
   "outputs": [
    {
     "name": "stdout",
     "output_type": "stream",
     "text": [
      "Devon\n"
     ]
    }
   ],
   "source": [
    "class Poly:\n",
    "    def __init__(self):\n",
    "        self.name = 'Devon'\n",
    "        self.age = 29\n",
    "    def view(self):\n",
    "        print(self.name)\n",
    "class Child(Poly):\n",
    "    def __init__(self):\n",
    "        Poly.__init__(self)\n",
    "    def view(self):\n",
    "        self.prof = \"Levi\"\n",
    "        super().view()\n",
    "        return None\n",
    "obj = Child()\n",
    "obj.view()"
   ]
  },
  {
   "cell_type": "code",
   "execution_count": 63,
   "id": "a5689722",
   "metadata": {},
   "outputs": [
    {
     "data": {
      "text/plain": [
       "16"
      ]
     },
     "execution_count": 63,
     "metadata": {},
     "output_type": "execute_result"
    }
   ],
   "source": [
    "from multipledispatch import dispatch\n",
    "class Poly:\n",
    "    @dispatch(int, int)\n",
    "    def method(self, a, b):\n",
    "        return (a**b)\n",
    "    @dispatch(int, int, int)\n",
    "    def method(self, a, b,c):\n",
    "        return (a*b*c)\n",
    "obj = Poly()\n",
    "obj.method(4,2)"
   ]
  },
  {
   "cell_type": "code",
   "execution_count": 69,
   "id": "e1b19974",
   "metadata": {},
   "outputs": [
    {
     "name": "stdout",
     "output_type": "stream",
     "text": [
      "Devon\n"
     ]
    },
    {
     "data": {
      "text/plain": [
       "29"
      ]
     },
     "execution_count": 69,
     "metadata": {},
     "output_type": "execute_result"
    }
   ],
   "source": [
    "class Poly:\n",
    "    def __init__(self):\n",
    "        self.name = 'Devon'\n",
    "        self.age = 29\n",
    "    def view(self):\n",
    "        print(self.name)\n",
    "class Child(Poly):\n",
    "    def __init__(self):\n",
    "        Poly.__init__(self)\n",
    "    def view(self):\n",
    "        self.prof = 'Levi'\n",
    "        super().view()\n",
    "        return self.age\n",
    "obj = Child()\n",
    "obj.view()"
   ]
  },
  {
   "cell_type": "code",
   "execution_count": 80,
   "id": "54fd4971",
   "metadata": {},
   "outputs": [
    {
     "name": "stdout",
     "output_type": "stream",
     "text": [
      "Rajesh\n"
     ]
    },
    {
     "data": {
      "text/plain": [
       "'Rajesh'"
      ]
     },
     "execution_count": 80,
     "metadata": {},
     "output_type": "execute_result"
    }
   ],
   "source": [
    "class Parent:\n",
    "    def __init__(self):\n",
    "        self.name = 'Rajesh'\n",
    "        self.__age = 29\n",
    "    def view(self):\n",
    "        print(self.name)\n",
    "class Child(Parent):\n",
    "    def __init__(self):\n",
    "        Parent.__init__(self)\n",
    "#         self._name = 'Ramesh'\n",
    "    def view(self):\n",
    "        super().view()\n",
    "        return self.name\n",
    "obj = Child()\n",
    "obj.view()"
   ]
  },
  {
   "cell_type": "code",
   "execution_count": null,
   "id": "71d92585",
   "metadata": {},
   "outputs": [],
   "source": []
  },
  {
   "cell_type": "markdown",
   "id": "aa99dc56",
   "metadata": {},
   "source": [
    "#### 8. Implement the Newton-Raphson method for finding the real roots of an nth degree polynomial with real valued coefficients. If the polynomial has no real roots your function should throw an error indicating the same. Your function should also take in a debug boolean flag variable, which when set to true prints the following\n",
    "- a. The iteration number\n",
    "- b. The function value\n",
    "- c. The gradient of the function\n",
    "- d. The residual error"
   ]
  },
  {
   "cell_type": "code",
   "execution_count": null,
   "id": "af31637c",
   "metadata": {},
   "outputs": [],
   "source": []
  },
  {
   "cell_type": "markdown",
   "id": "a199dd9a",
   "metadata": {},
   "source": [
    "#### 9. Implement taylor series expansion of the sine function. Show that with increasing number of terms, the error in the value of the function drops"
   ]
  },
  {
   "cell_type": "code",
   "execution_count": null,
   "id": "38a5accf",
   "metadata": {},
   "outputs": [],
   "source": []
  },
  {
   "cell_type": "markdown",
   "id": "ae59cf90",
   "metadata": {},
   "source": [
    "####  10.Given a positive integer N, find the closest number to N which can be written as 2p"
   ]
  },
  {
   "cell_type": "code",
   "execution_count": null,
   "id": "f8ee45b8",
   "metadata": {},
   "outputs": [],
   "source": []
  },
  {
   "cell_type": "code",
   "execution_count": null,
   "id": "eb43d305",
   "metadata": {},
   "outputs": [],
   "source": []
  },
  {
   "cell_type": "code",
   "execution_count": null,
   "id": "51535a06",
   "metadata": {},
   "outputs": [],
   "source": []
  }
 ],
 "metadata": {
  "kernelspec": {
   "display_name": "Python 3 (ipykernel)",
   "language": "python",
   "name": "python3"
  },
  "language_info": {
   "codemirror_mode": {
    "name": "ipython",
    "version": 3
   },
   "file_extension": ".py",
   "mimetype": "text/x-python",
   "name": "python",
   "nbconvert_exporter": "python",
   "pygments_lexer": "ipython3",
   "version": "3.11.4"
  }
 },
 "nbformat": 4,
 "nbformat_minor": 5
}
