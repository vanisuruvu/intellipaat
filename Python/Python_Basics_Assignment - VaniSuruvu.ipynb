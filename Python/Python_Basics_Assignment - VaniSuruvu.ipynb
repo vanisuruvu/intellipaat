{
 "cells": [
  {
   "cell_type": "markdown",
   "id": "f417963a",
   "metadata": {},
   "source": [
    "# Q1. Using Python script as a calculator\n",
    "Create the variables n, r, p and assign them values 10, 5, and 100 respectively. Then\n",
    "evaluate the following expression in the Python console.\n",
    "𝐴 = 𝑝 (1 + 𝑟/ 100)n\n",
    "a. 100\n",
    "b. 162.89\n",
    "c. 189\n",
    "d. None of the above"
   ]
  },
  {
   "cell_type": "code",
   "execution_count": 2,
   "id": "34d5a2f4",
   "metadata": {},
   "outputs": [
    {
     "name": "stdout",
     "output_type": "stream",
     "text": [
      "162.8894626777442\n"
     ]
    }
   ],
   "source": [
    "n, r, p = 10, 5, 100\n",
    "A = p*((1+ (r/100))**n)\n",
    "print(A)  # Answer b. 162.89"
   ]
  },
  {
   "cell_type": "markdown",
   "id": "207f3a18",
   "metadata": {},
   "source": [
    "# Q2. In a given string format operation, how will you print the given string.\n",
    "A = 10\n",
    "B = 20\n",
    "Str = \"There are {} students in the class, with {} who play at least one sport.\"\n",
    "a. print(string.format(a,b))\n",
    "b. print(string+a+b)\n",
    "c. print(string.format(b,a))\n",
    "d. None of the above"
   ]
  },
  {
   "cell_type": "code",
   "execution_count": 6,
   "id": "74059e83",
   "metadata": {},
   "outputs": [
    {
     "name": "stdout",
     "output_type": "stream",
     "text": [
      "There are 10 students in the class, with 20 who play at least one sport.\n"
     ]
    }
   ],
   "source": [
    "A = 10\n",
    "B = 20\n",
    "Str = \"There are {} students in the class, with {} who play at least one sport.\"\n",
    "print(Str.format(A,B)) # Answer: A"
   ]
  },
  {
   "cell_type": "markdown",
   "id": "b31abde6",
   "metadata": {},
   "source": [
    "# Q3. In a given sample string, How do you print a double quoted string in between a regular string using the escape character?\n",
    "Sample output = It goes without saying, “Time is Money”, and none can deny it.\n",
    "a. print(“It goes without saying, \\“Time is Money\\”, and none can deny it.”)\n",
    "b. print(“It goes without saying, \\Time is Money\\, and none can deny it.”)\n",
    "c. print(“It goes without saying” + “Time is Money” + “and none can deny it.”)\n",
    "d. None of the above."
   ]
  },
  {
   "cell_type": "code",
   "execution_count": 12,
   "id": "127606c7",
   "metadata": {},
   "outputs": [
    {
     "name": "stdout",
     "output_type": "stream",
     "text": [
      "It goes without saying, \"Time is Money\", and none can deny it.\n"
     ]
    }
   ],
   "source": [
    "#Sample output = It goes without saying, “Time is Money”, and none can deny it.\n",
    "print(\"It goes without saying, \\\"Time is Money\\\", and none can deny it.\")\n",
    "# b. print(“It goes without saying, \\Time is Money\\, and none can deny it.”)\n",
    "# c. print(“It goes without saying” + “Time is Money” + “and none can deny it.”)\n",
    "# d. None of the above."
   ]
  },
  {
   "cell_type": "markdown",
   "id": "e6cd9993",
   "metadata": {},
   "source": [
    "# Q4. What will be the output of the following code?\n",
    "x = lambda a,b: a//b\n",
    "x(10,3)\n",
    "a. 3.3333333333\n",
    "b. 3\n",
    "c. 30\n",
    "d. 1000"
   ]
  },
  {
   "cell_type": "code",
   "execution_count": 14,
   "id": "97c8c34e",
   "metadata": {},
   "outputs": [
    {
     "data": {
      "text/plain": [
       "3"
      ]
     },
     "execution_count": 14,
     "metadata": {},
     "output_type": "execute_result"
    }
   ],
   "source": [
    "x = lambda a,b: a//b\n",
    "x(10,3)  # Answer:  B"
   ]
  },
  {
   "cell_type": "code",
   "execution_count": 15,
   "id": "406bcc4d",
   "metadata": {},
   "outputs": [
    {
     "name": "stdout",
     "output_type": "stream",
     "text": [
      "['A', 'B', 'In', 'Out', 'Str', '_', '_13', '_14', '__', '___', '__builtin__', '__builtins__', '__doc__', '__loader__', '__name__', '__package__', '__spec__', '_dh', '_i', '_i1', '_i10', '_i11', '_i12', '_i13', '_i14', '_i15', '_i2', '_i3', '_i4', '_i5', '_i6', '_i7', '_i8', '_i9', '_ih', '_ii', '_iii', '_oh', 'exit', 'get_ipython', 'n', 'open', 'p', 'quit', 'r', 'x']\n",
      "__main__\n"
     ]
    }
   ],
   "source": [
    "print(dir())\n",
    "print(__name__)"
   ]
  },
  {
   "cell_type": "code",
   "execution_count": 43,
   "id": "e00518f5",
   "metadata": {},
   "outputs": [
    {
     "name": "stdout",
     "output_type": "stream",
     "text": [
      "['aaaaa', 'bbb', 'cccccc', 'aaa', 'd', 'eeee', 'a']\n"
     ]
    },
    {
     "data": {
      "text/plain": [
       "'a5b3c6a3d1e4a1'"
      ]
     },
     "execution_count": 43,
     "metadata": {},
     "output_type": "execute_result"
    }
   ],
   "source": [
    "a = 'aaaaabbbccccccaaadeeeea' \n",
    "list1 = []\n",
    "split_index = 0\n",
    "for i in range(len(a)):\n",
    "    if i != len(a)-1 and a[i]!=a[i+1]:\n",
    "        list1.append(a[split_index:i+1])\n",
    "        split_index=i+1\n",
    "list1.append(a[split_index: len(a)])\n",
    "print(list1)\n",
    "\"\".join([i[0]+str(len(i)) for i in list1])"
   ]
  },
  {
   "cell_type": "markdown",
   "id": "338a7fd7",
   "metadata": {},
   "source": [
    "# Q5. What will be the output of the following code?\n",
    "A = 10\n",
    "B = 12\n",
    "print(\"Smaller\") if A == B else print(\"Greater\") if A < B else print(\"True\")\n",
    "a. True\n",
    "b. Smaller\n",
    "c. Greater\n",
    "d. None of the above"
   ]
  },
  {
   "cell_type": "code",
   "execution_count": 44,
   "id": "d0fb48d8",
   "metadata": {},
   "outputs": [
    {
     "name": "stdout",
     "output_type": "stream",
     "text": [
      "Greater\n"
     ]
    }
   ],
   "source": [
    "A = 10\n",
    "B = 12\n",
    "print(\"Smaller\") if A == B else print(\"Greater\") if A < B else print(\"True\") \n",
    "# Answer: C: greater"
   ]
  },
  {
   "cell_type": "markdown",
   "id": "8c26d41f",
   "metadata": {},
   "source": [
    "# Q6. What will be the output of the following code?\n",
    "\n",
    "a. [2 7 3 5 4 6]\n",
    "b. TypeError\n",
    "c. NameError: name 'numpy' is not defined\n",
    "d. None of the above"
   ]
  },
  {
   "cell_type": "code",
   "execution_count": 1,
   "id": "e3c6f7a0",
   "metadata": {},
   "outputs": [
    {
     "name": "stdout",
     "output_type": "stream",
     "text": [
      "[2, 7, 3, 5, 4, 6]\n",
      "[2 7 3 5 4 6]\n"
     ]
    },
    {
     "data": {
      "text/plain": [
       "array([2, 7, 3, 5, 4, 6])"
      ]
     },
     "execution_count": 1,
     "metadata": {},
     "output_type": "execute_result"
    }
   ],
   "source": [
    "import os\n",
    "import numpy as np\n",
    "my_list1 = [2,7,3,5,4,6]\n",
    "print(my_list1)\n",
    "arr_1 = np.array(my_list1, dtype = int)\n",
    "print(arr_1)\n",
    "arr_1\n",
    "# Answer: a. [2 7 3 5 4 6]"
   ]
  },
  {
   "cell_type": "markdown",
   "id": "43ca5458",
   "metadata": {},
   "source": [
    "# Q7. Create a string called ‘string’ with the value as “Machine Learning”. \n",
    "Which code(s) is/are appropriate to slice the substring “Learn”?\n",
    "a. string[slice(13,8,1)]\n",
    "b. string[slice(1,8,1)]\n",
    "c. string[8:14]\n",
    "d. string[slice(8,13,1)]"
   ]
  },
  {
   "cell_type": "code",
   "execution_count": 48,
   "id": "865860e1",
   "metadata": {},
   "outputs": [
    {
     "data": {
      "text/plain": [
       "'Learn'"
      ]
     },
     "execution_count": 48,
     "metadata": {},
     "output_type": "execute_result"
    }
   ],
   "source": [
    "string = 'Machine Learning'\n",
    "string[slice(8,13,1)]"
   ]
  },
  {
   "cell_type": "markdown",
   "id": "c47b08ee",
   "metadata": {},
   "source": [
    "# Q8. Create a sequence of numbers from 10 to 25 and increment by 4. What is the index of the value 18?\n",
    "a. 3\n",
    "b. 2\n",
    "c. 0\n",
    "d. 1"
   ]
  },
  {
   "cell_type": "code",
   "execution_count": 69,
   "id": "72cfe44b",
   "metadata": {},
   "outputs": [
    {
     "data": {
      "text/plain": [
       "2"
      ]
     },
     "execution_count": 69,
     "metadata": {},
     "output_type": "execute_result"
    }
   ],
   "source": [
    "sequence = range(10,26,4)\n",
    "sequence.index(18)\n",
    "# Answer: b. 2"
   ]
  },
  {
   "cell_type": "markdown",
   "id": "4c465146",
   "metadata": {},
   "source": [
    "# Q9. Which of the following is true with respect to the below codes?\n",
    "a. num1 = num2\n",
    "b. num1 ≠ num2\n",
    "c. num1 < num2\n",
    "d. num1 > num2"
   ]
  },
  {
   "cell_type": "code",
   "execution_count": 73,
   "id": "c5d21b5f",
   "metadata": {},
   "outputs": [
    {
     "name": "stdout",
     "output_type": "stream",
     "text": [
      "625 625\n",
      "True\n",
      "False\n"
     ]
    }
   ],
   "source": [
    "num1 = 5**4\n",
    "num2 = pow(5,4)\n",
    "print(num1, num2)\n",
    "print(num1 == num2)\n",
    "print(id(num1) == id(num2))"
   ]
  },
  {
   "cell_type": "markdown",
   "id": "cbfef254",
   "metadata": {},
   "source": [
    "# Q10.A Python NameError exception is raised when: -\n",
    "a. Trying to access a variable which has not been defined\n",
    "b. Trying to access a key in a dictionary that does not exist\n",
    "c. Accessing a column with misspelled column name\n",
    "d. Accessing the function from a module that has not been imported\n",
    "\n",
    "#### Answer: a. Trying to access a variable which has not been defined"
   ]
  },
  {
   "cell_type": "markdown",
   "id": "c1b15f52",
   "metadata": {},
   "source": [
    "# Q11.What type of exception will be raised for the code given below?\n",
    "a. NameError\n",
    "b. KeyError\n",
    "c. ValueError\n",
    "d. AttributeError"
   ]
  },
  {
   "cell_type": "code",
   "execution_count": 76,
   "id": "ba8d1569",
   "metadata": {},
   "outputs": [
    {
     "ename": "ValueError",
     "evalue": "invalid literal for int() with base 10: 'string'",
     "output_type": "error",
     "traceback": [
      "\u001b[1;31m---------------------------------------------------------------------------\u001b[0m",
      "\u001b[1;31mValueError\u001b[0m                                Traceback (most recent call last)",
      "Cell \u001b[1;32mIn[76], line 2\u001b[0m\n\u001b[0;32m      1\u001b[0m x \u001b[38;5;241m=\u001b[39m \u001b[38;5;124m\"\u001b[39m\u001b[38;5;124mstring\u001b[39m\u001b[38;5;124m\"\u001b[39m\n\u001b[1;32m----> 2\u001b[0m \u001b[38;5;28mint\u001b[39m(x)\n",
      "\u001b[1;31mValueError\u001b[0m: invalid literal for int() with base 10: 'string'"
     ]
    }
   ],
   "source": [
    "x = \"string\"\n",
    "int(x)\n",
    "# Answer: ValueError"
   ]
  },
  {
   "cell_type": "markdown",
   "id": "cfbc5f41",
   "metadata": {},
   "source": [
    "# Q12.A FileNotFoundError exception is raised by operating system errors when: -\n",
    "a. Trying to create a file or directory which already exists\n",
    "b. A file or directory is requested but does not exist in the working directory\n",
    "c. Trying to run an operation without the adequate access rights\n",
    "d. A directory operation, os.listdir() is requested on something which is not a\n",
    "directory\n",
    "##### Answer: b. A file or directory is requested but does not exist in the working directory"
   ]
  },
  {
   "cell_type": "markdown",
   "id": "96a9fe56",
   "metadata": {},
   "source": [
    "# Q13.Consider a variable Z. The value of Z is \"ID-5632\". Data type of Z is: -\n",
    "a. Complex\n",
    "b. Character\n",
    "c. Integer\n",
    "d. Boolean\n",
    "##### Answer: b. Character"
   ]
  },
  {
   "cell_type": "code",
   "execution_count": 78,
   "id": "fcf1e419",
   "metadata": {},
   "outputs": [
    {
     "data": {
      "text/plain": [
       "str"
      ]
     },
     "execution_count": 78,
     "metadata": {},
     "output_type": "execute_result"
    }
   ],
   "source": [
    "Z = \"ID-5632\"\n",
    "type(Z)"
   ]
  },
  {
   "cell_type": "markdown",
   "id": "c89781de",
   "metadata": {},
   "source": [
    "# Q14.Which of the following variable(s) are character data type?\n",
    "a. K= “4”\n",
    "b. J= “Welcome”\n",
    "c. L= “?”\n",
    "d. All of the above\n",
    "###### Answer : d. All of the above"
   ]
  },
  {
   "cell_type": "code",
   "execution_count": 79,
   "id": "7324843f",
   "metadata": {},
   "outputs": [
    {
     "name": "stdout",
     "output_type": "stream",
     "text": [
      "<class 'str'> <class 'str'> <class 'str'>\n"
     ]
    }
   ],
   "source": [
    "K=\"4\"\n",
    "J=\"Welcome\"\n",
    "L=\"?\"\n",
    "print(type(K), type(J), type(L))\n",
    "# types of variables are all String  or Character"
   ]
  },
  {
   "cell_type": "markdown",
   "id": "719f288d",
   "metadata": {},
   "source": [
    "# Q15.Choose the symbol/s that does not have the ability to convert any values to string?\n",
    "a. ( )\n",
    "b. “ ”\n",
    "c. {}\n",
    "d. #\n",
    "##### Answer: d. #\n"
   ]
  },
  {
   "cell_type": "markdown",
   "id": "dfcf08df",
   "metadata": {},
   "source": [
    "## Q16.Create a dictionary ‘Country’ that maps the following countries to their capitals respectively:\n",
    "Country India China Japan Qatar France\n",
    "State Delhi Beijing Tokyo Doha Marseilles\n",
    "Find 2 commands to replace “Marseilles” with “Paris” is:"
   ]
  },
  {
   "cell_type": "code",
   "execution_count": 3,
   "id": "0eacbf88",
   "metadata": {},
   "outputs": [
    {
     "name": "stdout",
     "output_type": "stream",
     "text": [
      "{'India': 'Delhi', 'China': 'Beijing', 'Japan': 'Tokyo', 'Qatar': 'Doha', 'France': 'Paris'}\n",
      "{'India': 'Delhi', 'China': 'Beijing', 'Japan': 'Tokyo', 'Qatar': 'Doha', 'France': 'Paris'}\n"
     ]
    }
   ],
   "source": [
    "Country = {'India': 'Delhi', 'China': 'Beijing', 'Japan': 'Tokyo', 'Qatar': 'Doha',\n",
    "          'France': 'Marseilles'}\n",
    "Country['France'] = 'Paris'\n",
    "print(Country)\n",
    "\n",
    "Country.setdefault('France', 'Paris')\n",
    "print(Country)"
   ]
  },
  {
   "cell_type": "markdown",
   "id": "ff6f29ca",
   "metadata": {},
   "source": [
    "# Q17. Create the tuples given below\n",
    "tuple_1 = (1,5,6,7,8)\n",
    "tuple_2 = (8,9,4)\n",
    "Identify which of the following code does not work on a tuple.\n",
    "a. sum(tuple_1)\n",
    "b. len(tuple_2)\n",
    "c. tuple_2 + tuple_1\n",
    "d. tuple_1[3] = 45"
   ]
  },
  {
   "cell_type": "code",
   "execution_count": 28,
   "id": "1be5b1e8",
   "metadata": {},
   "outputs": [
    {
     "name": "stdout",
     "output_type": "stream",
     "text": [
      "27\n",
      "3\n",
      "(8, 9, 4, 1, 5, 6, 7, 8)\n"
     ]
    },
    {
     "ename": "TypeError",
     "evalue": "'tuple' object does not support item assignment",
     "output_type": "error",
     "traceback": [
      "\u001b[1;31m---------------------------------------------------------------------------\u001b[0m",
      "\u001b[1;31mTypeError\u001b[0m                                 Traceback (most recent call last)",
      "Cell \u001b[1;32mIn[28], line 7\u001b[0m\n\u001b[0;32m      5\u001b[0m \u001b[38;5;28mprint\u001b[39m(\u001b[38;5;28mlen\u001b[39m(tuple_2))\n\u001b[0;32m      6\u001b[0m \u001b[38;5;28mprint\u001b[39m(tuple_2 \u001b[38;5;241m+\u001b[39m tuple_1)\n\u001b[1;32m----> 7\u001b[0m tuple_1[\u001b[38;5;241m3\u001b[39m] \u001b[38;5;241m=\u001b[39m \u001b[38;5;241m45\u001b[39m\n",
      "\u001b[1;31mTypeError\u001b[0m: 'tuple' object does not support item assignment"
     ]
    }
   ],
   "source": [
    "tuple_1 = (1,5,6,7,8)\n",
    "tuple_2 = (8,9,4)\n",
    "# Identify which of the following code does not work on a tuple.\n",
    "print(sum(tuple_1))\n",
    "print(len(tuple_2))\n",
    "print(tuple_2 + tuple_1)\n",
    "tuple_1[3] = 45\n",
    "# Answer d. Tuples are immutable, cannot change values"
   ]
  },
  {
   "cell_type": "markdown",
   "id": "0a55e2ce",
   "metadata": {},
   "source": [
    "# Q18. How many elements in the following data structure?\n",
    "s = {1,2,3,4,4,4,5,6}"
   ]
  },
  {
   "cell_type": "code",
   "execution_count": 29,
   "id": "3ff4050e",
   "metadata": {},
   "outputs": [
    {
     "name": "stdout",
     "output_type": "stream",
     "text": [
      "5\n"
     ]
    }
   ],
   "source": [
    "print(len(s))  # 5 elements in the set s"
   ]
  },
  {
   "cell_type": "markdown",
   "id": "181a5dfe",
   "metadata": {},
   "source": [
    "# Q19.Write a function which finds all pythagorean triplets of triangles whose sides are no greater than a natural number N."
   ]
  },
  {
   "cell_type": "code",
   "execution_count": 47,
   "id": "f4349355",
   "metadata": {},
   "outputs": [
    {
     "name": "stdout",
     "output_type": "stream",
     "text": [
      "Enter value for maximum side of a pythagorean triangle: 21\n",
      "[[3, 4, 5], [6, 8, 10], [5, 12, 13], [9, 12, 15], [8, 15, 17], [12, 16, 20]]\n"
     ]
    }
   ],
   "source": [
    "N = eval(input(\"Enter value for maximum side of a pythagorean triangle: \"))\n",
    "def pythagorean(N):\n",
    "    output = []\n",
    "    for i in range(1, N+1):\n",
    "        for j in range(1, N+1):\n",
    "            for k in range(1, N+1):\n",
    "                comp = j**2 + k**2\n",
    "                if i**2 == (j**2 + k**2) and j >= k:\n",
    "                    output.append({i, j, k})\n",
    "                else:\n",
    "                    continue\n",
    "    return ([sorted(list(i)) for i in output])\n",
    "print(pythagorean(N))"
   ]
  },
  {
   "cell_type": "code",
   "execution_count": 45,
   "id": "75997e5f",
   "metadata": {},
   "outputs": [],
   "source": []
  },
  {
   "cell_type": "code",
   "execution_count": null,
   "id": "7729c02c",
   "metadata": {},
   "outputs": [],
   "source": []
  },
  {
   "cell_type": "markdown",
   "id": "c9211b2a",
   "metadata": {},
   "source": [
    "# Class Practice"
   ]
  },
  {
   "cell_type": "code",
   "execution_count": 4,
   "id": "0ba2cbf0",
   "metadata": {},
   "outputs": [
    {
     "name": "stdout",
     "output_type": "stream",
     "text": [
      "Enter First Number: 20\n",
      "Enter Second Number: 10\n",
      "Product of numbers is: 200\n"
     ]
    }
   ],
   "source": [
    "a = eval(input(\"Enter First Number: \"))\n",
    "b = eval(input(\"Enter Second Number: \"))\n",
    "print(f\"Product of numbers is: {a*b}\")"
   ]
  },
  {
   "cell_type": "code",
   "execution_count": 13,
   "id": "a89dc441",
   "metadata": {},
   "outputs": [
    {
     "name": "stdout",
     "output_type": "stream",
     "text": [
      "Enter First String: d\n",
      "Enter Second String: a\n",
      "Concatenation of two strings is: da\n",
      "Concatenation of two strings is: da\n",
      "Concatenation of two strings is: da\n"
     ]
    }
   ],
   "source": [
    "a = input(\"Enter First String: \")\n",
    "b = input(\"Enter Second String: \")\n",
    "print(f\"Concatenation of two strings is: {a+b}\")\n",
    "print(f\"Concatenation of two strings is: {a}{b}\")\n",
    "print(\"Concatenation of two strings is: {}{}\".format(a,b))"
   ]
  },
  {
   "cell_type": "code",
   "execution_count": 21,
   "id": "f43fcfcc",
   "metadata": {},
   "outputs": [
    {
     "name": "stdout",
     "output_type": "stream",
     "text": [
      "Maximum number is: 63\n",
      "Average of numbers is: 8.76923076923077\n"
     ]
    }
   ],
   "source": [
    "lst = [1,2,3,4,5,63,2,1,14,4,5,7,3]\n",
    "print(\"Maximum number is: \" + str(max(lst)))\n",
    "print(\"Average of numbers is: \" + str(sum(lst) / len(lst)))"
   ]
  },
  {
   "cell_type": "code",
   "execution_count": 22,
   "id": "bfb914ed",
   "metadata": {},
   "outputs": [
    {
     "name": "stdout",
     "output_type": "stream",
     "text": [
      "Sum is 30.2\n"
     ]
    }
   ],
   "source": [
    "a = (1,3,5,2.2,13,4,2)\n",
    "print(f\"Sum is {sum(a)}\")"
   ]
  },
  {
   "cell_type": "code",
   "execution_count": 23,
   "id": "41d67fff",
   "metadata": {},
   "outputs": [
    {
     "data": {
      "text/plain": [
       "'🍇'"
      ]
     },
     "execution_count": 23,
     "metadata": {},
     "output_type": "execute_result"
    }
   ],
   "source": [
    "fruits = ['🍇','🍊','🍎','🍒']\n",
    "print(fruits[0])"
   ]
  },
  {
   "cell_type": "code",
   "execution_count": 25,
   "id": "a661b12d",
   "metadata": {},
   "outputs": [
    {
     "name": "stdout",
     "output_type": "stream",
     "text": [
      "Enter a String: hello\n",
      "Length of the string is 5\n"
     ]
    }
   ],
   "source": [
    "s = input(\"Enter a String: \")\n",
    "print(f\"Length of the string is {len(s)}\")"
   ]
  },
  {
   "cell_type": "code",
   "execution_count": 26,
   "id": "b9eb9035",
   "metadata": {},
   "outputs": [
    {
     "name": "stdout",
     "output_type": "stream",
     "text": [
      "Rounded Number is: 13\n"
     ]
    }
   ],
   "source": [
    "x = 12.9\n",
    "print(f\"Rounded Number is: {round(x)}\")"
   ]
  },
  {
   "cell_type": "code",
   "execution_count": 27,
   "id": "98f6285b",
   "metadata": {},
   "outputs": [
    {
     "name": "stdout",
     "output_type": "stream",
     "text": [
      "20 10\n"
     ]
    }
   ],
   "source": [
    "a = 10\n",
    "b = 20\n",
    "a, b = b, a\n",
    "print(a, b)"
   ]
  },
  {
   "cell_type": "code",
   "execution_count": null,
   "id": "ff3be34c",
   "metadata": {},
   "outputs": [],
   "source": []
  },
  {
   "cell_type": "code",
   "execution_count": null,
   "id": "e6bfc15e",
   "metadata": {},
   "outputs": [],
   "source": []
  },
  {
   "cell_type": "code",
   "execution_count": null,
   "id": "483907a3",
   "metadata": {},
   "outputs": [],
   "source": []
  }
 ],
 "metadata": {
  "kernelspec": {
   "display_name": "Python 3 (ipykernel)",
   "language": "python",
   "name": "python3"
  },
  "language_info": {
   "codemirror_mode": {
    "name": "ipython",
    "version": 3
   },
   "file_extension": ".py",
   "mimetype": "text/x-python",
   "name": "python",
   "nbconvert_exporter": "python",
   "pygments_lexer": "ipython3",
   "version": "3.11.4"
  }
 },
 "nbformat": 4,
 "nbformat_minor": 5
}
