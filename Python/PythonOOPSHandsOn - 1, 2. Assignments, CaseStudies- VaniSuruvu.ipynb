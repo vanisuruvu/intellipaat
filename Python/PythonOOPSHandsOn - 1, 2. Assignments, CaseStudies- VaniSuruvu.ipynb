{
 "cells": [
  {
   "cell_type": "markdown",
   "id": "f895116d",
   "metadata": {},
   "source": [
    "#### 1. Create a function named ‘factor’ that can only accept 1 argument. The function should return the factorial of that number."
   ]
  },
  {
   "cell_type": "code",
   "execution_count": 36,
   "id": "a162586d",
   "metadata": {},
   "outputs": [
    {
     "data": {
      "text/plain": [
       "5040"
      ]
     },
     "execution_count": 36,
     "metadata": {},
     "output_type": "execute_result"
    }
   ],
   "source": [
    "def factor(n):\n",
    "    output = 1\n",
    "    if n == 1: return n\n",
    "    else: \n",
    "        for i in range(1, n+1): output = output*i\n",
    "    return output\n",
    "factor(7)"
   ]
  },
  {
   "cell_type": "code",
   "execution_count": 45,
   "id": "37b1cc9e",
   "metadata": {},
   "outputs": [
    {
     "data": {
      "text/plain": [
       "5040"
      ]
     },
     "execution_count": 45,
     "metadata": {},
     "output_type": "execute_result"
    }
   ],
   "source": [
    "def factor(n):\n",
    "    if n ==0: return 1\n",
    "    else: return n*factor(n-1)\n",
    "factor(7)"
   ]
  },
  {
   "cell_type": "markdown",
   "id": "9bda7496",
   "metadata": {},
   "source": [
    "#### 2. Create a function named ‘check_string’, the function should accept a string data from the user and the function should check if the user input contains the letter ‘s’ in it. If it contains the letter ‘s’ then print- ‘The string is containing the letter ‘s’’, if not then print- ‘The string doesn’t contain the letter ‘s’’."
   ]
  },
  {
   "cell_type": "code",
   "execution_count": 57,
   "id": "823c93ef",
   "metadata": {},
   "outputs": [
    {
     "name": "stdout",
     "output_type": "stream",
     "text": [
      "Enter a string: kjkl;jk;S\n",
      "The string is containing the letter \"s\"\n"
     ]
    }
   ],
   "source": [
    "def check_string():\n",
    "    input_string = input(\"Enter a string: \")\n",
    "    if input_string.find('s') > -1 or input_string.find('S') > -1: print('The string is containing the letter \"s\"')\n",
    "    else: print('The string doesn\\'t contain the letter \"s\"')\n",
    "check_string()"
   ]
  },
  {
   "cell_type": "code",
   "execution_count": 68,
   "id": "e691443b",
   "metadata": {
    "scrolled": true
   },
   "outputs": [
    {
     "name": "stdout",
     "output_type": "stream",
     "text": [
      "Enter some no: 34\n",
      "34\n"
     ]
    }
   ],
   "source": [
    "class student: \n",
    "    def fun1(self): \n",
    "        n = int(input('Enter some no: '))\n",
    "        return n\n",
    "    def message(self): \n",
    "        k = self.fun1()\n",
    "        return k \n",
    "ob=student()\n",
    "print(ob.message())"
   ]
  },
  {
   "cell_type": "markdown",
   "id": "55f8e3d1",
   "metadata": {},
   "source": [
    "#### 3. Create a class named ‘student’ and inside the class, create a function named ‘fun1’- this method should accept the user defined input and return that value.\n",
    "- a. Create another method named- message() and that method should print the user defined input that we have defined in ‘fun1’."
   ]
  },
  {
   "cell_type": "code",
   "execution_count": 61,
   "id": "6e14056f",
   "metadata": {},
   "outputs": [
    {
     "name": "stdout",
     "output_type": "stream",
     "text": [
      "Enter a string: daf\n"
     ]
    },
    {
     "data": {
      "text/plain": [
       "'daf'"
      ]
     },
     "execution_count": 61,
     "metadata": {},
     "output_type": "execute_result"
    }
   ],
   "source": [
    "class student:\n",
    "    def fun1(self):\n",
    "        self.input_str = input(\"Enter a string: \")\n",
    "        return self.input_str\n",
    "    def message(self):\n",
    "        return self.input_str\n",
    "obj = student()\n",
    "obj.fun1()\n",
    "obj.message()"
   ]
  },
  {
   "cell_type": "markdown",
   "id": "bb080e68",
   "metadata": {},
   "source": [
    "#### 4. Create a lambda function that should double or multiply the number (that we will be passing in the lambda function) by 2. Store the lambda function in a variable named ‘double_num’.\n"
   ]
  },
  {
   "cell_type": "code",
   "execution_count": 74,
   "id": "64c2d1ba",
   "metadata": {},
   "outputs": [
    {
     "name": "stdout",
     "output_type": "stream",
     "text": [
      "68\n",
      "abcabc\n",
      "[3, 2, 1, 3, 5, 5, 3, 2, 1, 3, 5, 5]\n"
     ]
    }
   ],
   "source": [
    "double_num = lambda x: x*2\n",
    "print(double_num(34))\n",
    "print(double_num('abc'))\n",
    "print(double_num([3,2,1,3,5,5]))"
   ]
  },
  {
   "cell_type": "markdown",
   "id": "871a15ba",
   "metadata": {},
   "source": [
    "#### 5. Take the user input string and check whether that string is palindrome or not."
   ]
  },
  {
   "cell_type": "code",
   "execution_count": 25,
   "id": "fa5eb6ce",
   "metadata": {},
   "outputs": [
    {
     "name": "stdout",
     "output_type": "stream",
     "text": [
      "Enter a string: racecar\n",
      "Palindrome\n"
     ]
    }
   ],
   "source": [
    "str = input('Enter a string: ')\n",
    "if str == str[::-1]: print('Palindrome')\n",
    "else: print(\"not a palindrome\")"
   ]
  },
  {
   "cell_type": "markdown",
   "id": "98c13fa5",
   "metadata": {},
   "source": [
    "#### 6. Create a class named ‘Super’ and inside that class define a user-defined function named fun1.\n",
    "- a. Inside the ‘fun1’ function, pass the message “This is function 1 in the Super class.” in the print statement."
   ]
  },
  {
   "cell_type": "code",
   "execution_count": 27,
   "id": "e45742a5",
   "metadata": {},
   "outputs": [],
   "source": [
    "class Super:\n",
    "    def fun1(self):\n",
    "        message = 'This is function 1 in the Super class.'\n",
    "        print(message)"
   ]
  },
  {
   "cell_type": "markdown",
   "id": "e3ccb7d4",
   "metadata": {},
   "source": [
    "#### 7. Create another class named ‘Modified_Super’ and inherit this class from the Super class.\n",
    "- a. Inside the Modified_Super class, create a function named ‘fun1’ and pass the following message inside the print statement: ‘This is function 1 in the Modified Super class.’\n",
    "- b. Create another user-defined function named ‘fun2’ and pass the message: ‘This is the 2nd function from the Modified Super class’ in the print statement.\n",
    "- c. After that, now create an object for the Modified_Super class and call the fun1()."
   ]
  },
  {
   "cell_type": "code",
   "execution_count": 29,
   "id": "7b32e4a2",
   "metadata": {},
   "outputs": [
    {
     "name": "stdout",
     "output_type": "stream",
     "text": [
      "This is function 1 in the Modified Super class.\n"
     ]
    }
   ],
   "source": [
    "class Modified_Super(Super):\n",
    "    def fun1(self):\n",
    "        print('This is function 1 in the Modified Super class.')\n",
    "    def fun2(self):\n",
    "        print('This is the 2nd function in the Modified Super class.')\n",
    "Modified_Super().fun1()"
   ]
  },
  {
   "cell_type": "markdown",
   "id": "beadaf40",
   "metadata": {},
   "source": [
    "#### 8. Create 2 methods named ‘Hello’. In the 1st Hello method, pass only one argument and pass this message: ‘This function only has 1 argument’. And in the 2nd Hello method, pass two arguments and pass this message: ‘This function has 2 arguments’.\n",
    "- a. Try to call both the methods and analyze the output of both the methods."
   ]
  },
  {
   "cell_type": "code",
   "execution_count": 41,
   "id": "6d06e28a",
   "metadata": {},
   "outputs": [
    {
     "name": "stdout",
     "output_type": "stream",
     "text": [
      "This function has 2 arguments\n"
     ]
    }
   ],
   "source": [
    "def Hello(i):\n",
    "    print('This function only has 1 argument.')\n",
    "def Hello(i,j):\n",
    "    print('This function has 2 arguments')\n",
    "# Hello(2)\n",
    "Hello(1,2)"
   ]
  },
  {
   "cell_type": "markdown",
   "id": "71215b18",
   "metadata": {},
   "source": [
    "#### 9. Create a method named ‘Sum’ that can accept multiple user inputs. Now add those userdefined input values using for loop and the function should return the addition of the numbers."
   ]
  },
  {
   "cell_type": "code",
   "execution_count": 46,
   "id": "f87e11c0",
   "metadata": {},
   "outputs": [
    {
     "name": "stdout",
     "output_type": "stream",
     "text": [
      "10\n",
      "7378\n"
     ]
    }
   ],
   "source": [
    "def Sum(*args):\n",
    "    sum = 0\n",
    "    for i in args: sum += i\n",
    "    return sum\n",
    "print(Sum(1,2,3,4))\n",
    "print(Sum(1,3234,3421,234,23,233,232,))"
   ]
  },
  {
   "cell_type": "markdown",
   "id": "0091a64a",
   "metadata": {},
   "source": [
    "#### 10. Create a class named ‘Encapsulation’:\n",
    "- a. Inside the class, first create a constructor. Inside the constructor, initialize originalValue variable as 10.\n",
    "- b. After creating the constructor, define a function named ‘Value’ and this function should return the variable that we have initialized in the constructor.\n",
    "- c. Now create 2nd function named setValue, and pass an argument named ‘newValue’. The task of this function will be to replace the value of the originalValue variable by the value of the newValue variable."
   ]
  },
  {
   "cell_type": "code",
   "execution_count": 58,
   "id": "5e9b3d48",
   "metadata": {},
   "outputs": [
    {
     "name": "stdout",
     "output_type": "stream",
     "text": [
      "20\n"
     ]
    }
   ],
   "source": [
    "class Encapsulation:\n",
    "    def __init__(self):\n",
    "        self.originalValue = 10\n",
    "    def Value(self):\n",
    "        return self.originalValue\n",
    "    def setValue(self, newValue):\n",
    "        self.originalValue = newValue\n",
    "obj = Encapsulation()\n",
    "obj.setValue(20)\n",
    "print(obj.Value())"
   ]
  },
  {
   "cell_type": "code",
   "execution_count": null,
   "id": "69d9b237",
   "metadata": {},
   "outputs": [],
   "source": []
  },
  {
   "cell_type": "markdown",
   "id": "1df04535",
   "metadata": {},
   "source": [
    "# HandsOn 2 - OOPS Python Basics"
   ]
  },
  {
   "cell_type": "markdown",
   "id": "9428c779",
   "metadata": {},
   "source": [
    "#### 1. Create a class named parent_Class and inside the class, initialize a global variable num as 10.\n",
    "- a. Create another class named child_Class and this class should be inherited from the parent class.\n",
    "- b. Now create an object for the child_Class and with the help of child_Class object, display the value of ‘num’."
   ]
  },
  {
   "cell_type": "code",
   "execution_count": 59,
   "id": "fdb9e0fe",
   "metadata": {},
   "outputs": [
    {
     "name": "stdout",
     "output_type": "stream",
     "text": [
      "10\n"
     ]
    }
   ],
   "source": [
    "class parent_Class:\n",
    "    def __init__(self):\n",
    "        self.num = 10\n",
    "class child_Class(parent_Class):\n",
    "    pass\n",
    "obj = child_Class()\n",
    "print(obj.num)"
   ]
  },
  {
   "cell_type": "markdown",
   "id": "199bfbe3",
   "metadata": {},
   "source": [
    "# 2. Create three classes named A, B, and C."
   ]
  },
  {
   "cell_type": "markdown",
   "id": "15a9fb6e",
   "metadata": {},
   "source": [
    "- a. Inside the A class, create a constructor. Inside the constructor, initialize 2 global variables- name and age.\n",
    "- b. After initializing the global variables inside the constructor, now create a function named ‘details’ and that function should return the ‘name’ variable.\n",
    "- c. Inside the B class, create a constructor. Inside the constructor, initialize 2 global variablesname and id.\n",
    "- d. After initializing the global variables inside the constructor, now create a function named ‘details’ and that function should return the ‘name’ variable.\n",
    "- e. The C class should inherit from class A, and B. Inside the class C, create a constructor, and inside the constructor, call the constructor of class A.\n",
    "- f. Now, create a method inside the class C, as get_details, and this function should return the value of a name.\n",
    "- g. Atlast, create an object of class C, and with the help of the object, call the get_details()."
   ]
  },
  {
   "cell_type": "code",
   "execution_count": 65,
   "id": "271a756d",
   "metadata": {},
   "outputs": [
    {
     "name": "stdout",
     "output_type": "stream",
     "text": [
      "Vani\n"
     ]
    }
   ],
   "source": [
    "class A:\n",
    "    def __init__(self):\n",
    "        self.name = 'Vani'\n",
    "        self.age = 41\n",
    "    def details(self):\n",
    "        return self.name\n",
    "class B:\n",
    "    def __init__(self):\n",
    "        self.name = 'Pranav'\n",
    "        self.id = 123456789\n",
    "    def details(self):\n",
    "        return self.name\n",
    "class C(A,B):\n",
    "    def __init__(self):\n",
    "        A.__init__(self)\n",
    "    def get_details(self):\n",
    "        return self.name\n",
    "ob = C()\n",
    "print(ob.get_details())"
   ]
  },
  {
   "cell_type": "markdown",
   "id": "d143e883",
   "metadata": {},
   "source": [
    "#### 3. Create a class named Employee, with a constructor ‘__init__’ method that accepts name and salary as parameters and set properties named name and salary."
   ]
  },
  {
   "cell_type": "code",
   "execution_count": 70,
   "id": "e383675f",
   "metadata": {},
   "outputs": [
    {
     "name": "stdout",
     "output_type": "stream",
     "text": [
      "Name: Vani, Salary: 30000\n"
     ]
    }
   ],
   "source": [
    "class Employee:\n",
    "    def __init__(self, name, salary):\n",
    "        self.name = name\n",
    "        self.salary = salary\n",
    "    def str(self):\n",
    "        print(f'Name: {self.name}, Salary: {self.salary}')\n",
    "Employee('Vani', 30000).str()"
   ]
  },
  {
   "cell_type": "markdown",
   "id": "fea8ea13",
   "metadata": {},
   "source": [
    "#### 4. Define __str__ method in Employee class so that when someone tries to print the object the string Name: employee_name, Salary: employee_salary is printed with the actual employee name and salary."
   ]
  },
  {
   "cell_type": "code",
   "execution_count": null,
   "id": "6fe65efa",
   "metadata": {},
   "outputs": [],
   "source": [
    "# code above in Q3 solution"
   ]
  },
  {
   "cell_type": "markdown",
   "id": "598bbd2a",
   "metadata": {},
   "source": [
    "#### 5. Create a program using classes and objects to implement the following:\n",
    "- 1. A singly linked list, and various CRUD operations on the same.\n",
    "- 2. A binary tree, and various CRUD operations on the same.\n",
    "- 3. A graph data structure, and various CRUD operations on the same.\n",
    "- 4. Implementation of Circular and Doubly linked lists."
   ]
  },
  {
   "cell_type": "code",
   "execution_count": null,
   "id": "20ca83a7",
   "metadata": {},
   "outputs": [],
   "source": []
  },
  {
   "cell_type": "markdown",
   "id": "a315eac1",
   "metadata": {},
   "source": [
    "## Inheritance Assignment:: "
   ]
  },
  {
   "cell_type": "markdown",
   "id": "dc75ab7c",
   "metadata": {},
   "source": [
    "##### 3. Create a class named ‘Sub1’, inside the class, generate a user defined function named ‘first’ and inside the function, pass the following statement in the print()- ‘This is the first function from Sub 1 class’.\n",
    "- a. Now create another class named ‘Sub2’, and inside the class, create a function named ‘second’, and pass the following message in the print()- ‘This is the second function from the Sub 2 class’.\n",
    "- b. After that, create another class named ‘Super’ and inside that class, create a method named ‘final’, and pass the below message in the print()- ‘This is the final method from the super class’.\n",
    "- c. Now, create an object for the Super class and call all the 3 user defined methods, i.e., first(), second(), and final()."
   ]
  },
  {
   "cell_type": "code",
   "execution_count": 12,
   "id": "6c93ec64",
   "metadata": {},
   "outputs": [
    {
     "name": "stdout",
     "output_type": "stream",
     "text": [
      "This is the first function from Sub 1 class.\n",
      "This is the second function from Sub 2 class.\n",
      "This is the final method from the super class.\n"
     ]
    }
   ],
   "source": [
    "class Sub1():\n",
    "    def first(self):\n",
    "        print(\"This is the first function from Sub 1 class.\")\n",
    "class Sub2():\n",
    "    def second(self):\n",
    "        print(\"This is the second function from Sub 2 class.\")\n",
    "class Super(Sub1, Sub2):\n",
    "    def final(self):\n",
    "        print(\"This is the final method from the super class.\")\n",
    "ob = Super()\n",
    "ob.first()\n",
    "ob.second()\n",
    "ob.final()"
   ]
  },
  {
   "cell_type": "markdown",
   "id": "3b5849eb",
   "metadata": {},
   "source": [
    "##### 4. Create a class named ‘Parent’, and inside the class, create a function named ‘fun1’ and pass the following message in the print()- ‘This is the message from the fun1’.\n",
    "- a. Now create a class named ‘Child1’ and inside the class, create a method named ‘fun2’ and pass the following message in the print()- ‘This is the message from the fun2’.\n",
    "- b. After that, create another class named ‘Child2’ and inside the class, create a method named ‘fun3’ and pass the following message in the print()- ‘This is the message from the fun3’.\n",
    "- c. Now, create an object of Child2 class and with the help of the object, call the ‘fun1’ method from the ‘Parent’ class."
   ]
  },
  {
   "cell_type": "code",
   "execution_count": 16,
   "id": "ad45c5c9",
   "metadata": {},
   "outputs": [
    {
     "name": "stdout",
     "output_type": "stream",
     "text": [
      "This is the message from the fun1.\n",
      "This is the message from the fun3.\n"
     ]
    }
   ],
   "source": [
    "class Parent:\n",
    "    def fun1(self):\n",
    "        print(\"This is the message from the fun1.\")\n",
    "class Child1(Parent):\n",
    "    def fun2(self):\n",
    "        print(\"This is the message from the fun2.\")\n",
    "class Child2(Parent):\n",
    "    def fun3(self):\n",
    "        print(\"This is the message from the fun3.\")\n",
    "ob = Child2()\n",
    "ob.fun1()\n",
    "ob.fun3()\n",
    "# ob.fun2()"
   ]
  },
  {
   "cell_type": "markdown",
   "id": "da30994e",
   "metadata": {},
   "source": [
    "##### 5. Create a class named ‘Parent’, and inside the class, create a function named ‘fun1’ and pass the following message in the print()- ‘This is the message from the fun1’.\n",
    "- a. Now create a class named ‘Child’ and inside the class, create a method named ‘fun2’ and pass the following message in the print()- ‘This is the message from the fun2’.\n",
    "- b. After that, create another class named ‘Hybrid’ and inside the class, create a method named ‘fun3’ and pass the following message in the print()- ‘This is the message from the fun3’.\n",
    "- c. Now create an object of Hybrid class and with the help of the object, call the ‘fun1’, ‘fun2’ and ‘fun3’ methods."
   ]
  },
  {
   "cell_type": "code",
   "execution_count": 19,
   "id": "0c91425b",
   "metadata": {},
   "outputs": [
    {
     "name": "stdout",
     "output_type": "stream",
     "text": [
      "This is the message from the fun1.\n",
      "This is the message from fun2.\n",
      "This is the messge from the fun3.\n"
     ]
    }
   ],
   "source": [
    "class Parent():\n",
    "    def fun1(self):\n",
    "        print(\"This is the message from the fun1.\")\n",
    "class Child(Parent):\n",
    "    def fun2(self):\n",
    "        print(\"This is the message from fun2.\")\n",
    "class Hybrid(Child):\n",
    "    def fun3(self):\n",
    "        print(\"This is the messge from the fun3.\")\n",
    "ob = Hybrid()\n",
    "ob.fun1()\n",
    "ob.fun2()\n",
    "ob.fun3()"
   ]
  },
  {
   "cell_type": "code",
   "execution_count": null,
   "id": "ab089ae1",
   "metadata": {},
   "outputs": [],
   "source": []
  },
  {
   "cell_type": "markdown",
   "id": "9c744420",
   "metadata": {},
   "source": [
    "## Module 2 - Case Study -1\n",
    "- 1. Create a class named Employee, with a constructor ‘__init__’ method that accepts name and salary as parameters and set properties named name and salary.\n",
    "- 2. Define _ _ str _ _ method in Employee class so that when someone tries to print the object the string Name: employee_name, Salary: employee_salary is printed with the actual employee name and salary.\n",
    "- 3. Create another class named Calculator, with methods to add, subtract, multiply and divide two numbers.\n",
    "- 4. These methods take two numbers as parameters.\n",
    "- 5. These methods will be called by a method named execute command.\n",
    "- 6. Execute command takes in 3 parameters command which is string that can be either ‘add’, ‘sub’, ‘mul’, ‘div’, and two numbers and it will call the appropriate method based on command parameter."
   ]
  },
  {
   "cell_type": "code",
   "execution_count": 64,
   "id": "03d152fc",
   "metadata": {},
   "outputs": [
    {
     "name": "stdout",
     "output_type": "stream",
     "text": [
      "Name: Vani, Salary: 8977807\n"
     ]
    },
    {
     "data": {
      "text/plain": [
       "825"
      ]
     },
     "execution_count": 64,
     "metadata": {},
     "output_type": "execute_result"
    }
   ],
   "source": [
    "class Employee:\n",
    "    def __init__(self, name, salary):\n",
    "        self.name = name\n",
    "        self.salary = salary\n",
    "    def __str__(self):\n",
    "        return f\"Name: {self.name}, Salary: {self.salary}\"\n",
    "print(Employee(\"Vani\", 8977807))\n",
    "class Calculator:\n",
    "    def add(self, a, b): return a+b\n",
    "    def sub(self, a, b): return a-b\n",
    "    def mul(self, a, b): return a*b\n",
    "    def div(self, a, b): return a/b\n",
    "    def execute_command( self, x, y, method_name):  return getattr(self, method_name)(x, y)\n",
    "Calculator().execute_command(75, 11, 'mul')"
   ]
  },
  {
   "cell_type": "code",
   "execution_count": null,
   "id": "cc06695d",
   "metadata": {},
   "outputs": [],
   "source": [
    "def with_price(price: float, factor: float = 2.0):\n",
    "        return (price * factor)\n",
    "def a_method(a: float, myfunction):\n",
    "        b = myfunction(11)\n",
    "        return a * b\n",
    "print( a_method(2, with_price) )"
   ]
  },
  {
   "cell_type": "code",
   "execution_count": 48,
   "id": "422b6512",
   "metadata": {},
   "outputs": [
    {
     "name": "stdout",
     "output_type": "stream",
     "text": [
      "0.9146341463414634\n"
     ]
    }
   ],
   "source": [
    "def div( a, b): return a/b\n",
    "def execute_command( a, b, method_name): return method_name(a,b)\n",
    "def fun1(): return execute_command(75, 82, div)\n",
    "print(fun1())"
   ]
  },
  {
   "cell_type": "code",
   "execution_count": null,
   "id": "119058b8",
   "metadata": {},
   "outputs": [],
   "source": []
  },
  {
   "cell_type": "code",
   "execution_count": null,
   "id": "6e03a9eb",
   "metadata": {},
   "outputs": [],
   "source": []
  },
  {
   "cell_type": "code",
   "execution_count": null,
   "id": "8d19c054",
   "metadata": {},
   "outputs": [],
   "source": []
  },
  {
   "cell_type": "code",
   "execution_count": 2,
   "id": "5ad776d2",
   "metadata": {},
   "outputs": [
    {
     "name": "stdout",
     "output_type": "stream",
     "text": [
      "Peter Parker 48\n",
      "Peter Parker\n"
     ]
    },
    {
     "ename": "AttributeError",
     "evalue": "'sample' object has no attribute '__age'",
     "output_type": "error",
     "traceback": [
      "\u001b[1;31m---------------------------------------------------------------------------\u001b[0m",
      "\u001b[1;31mAttributeError\u001b[0m                            Traceback (most recent call last)",
      "Cell \u001b[1;32mIn[2], line 10\u001b[0m\n\u001b[0;32m      8\u001b[0m obj\u001b[38;5;241m.\u001b[39mdisplay()\n\u001b[0;32m      9\u001b[0m \u001b[38;5;28mprint\u001b[39m(obj\u001b[38;5;241m.\u001b[39mname)\n\u001b[1;32m---> 10\u001b[0m \u001b[38;5;28mprint\u001b[39m(obj\u001b[38;5;241m.\u001b[39m__age)\n",
      "\u001b[1;31mAttributeError\u001b[0m: 'sample' object has no attribute '__age'"
     ]
    }
   ],
   "source": [
    "class sample:\n",
    "    def __init__(self):\n",
    "        self.name = 'Peter Parker'\n",
    "        self.__age = 48\n",
    "    def display(self):\n",
    "        print(self.name, self.__age)\n",
    "obj = sample()\n",
    "obj.display()\n",
    "print(obj.name)\n",
    "print(obj.__age)"
   ]
  },
  {
   "cell_type": "code",
   "execution_count": 9,
   "id": "8684441a",
   "metadata": {},
   "outputs": [
    {
     "name": "stdout",
     "output_type": "stream",
     "text": [
      "Child1 disp with age: 20\n"
     ]
    }
   ],
   "source": [
    "from abc import ABC, abstractmethod\n",
    "class Sample(ABC):\n",
    "    @abstractmethod\n",
    "    def disp(self):\n",
    "        pass\n",
    "class child(Sample):\n",
    "    def dispchild(self):\n",
    "        print('dispchild')\n",
    "class child1(child):\n",
    "    def disp(self):\n",
    "        print('child1 disp')\n",
    "    def disp(self, age):\n",
    "        print('Child1 disp with age:', age)\n",
    "child1().disp(20)  #prints child1 disp\n",
    "# child().dispchild() # TypeError\n",
    "# child().disp() # TypeError: Can't instantiate abstract class child with abstract method disp\n"
   ]
  },
  {
   "cell_type": "code",
   "execution_count": 30,
   "id": "8dcbec42",
   "metadata": {},
   "outputs": [],
   "source": [
    "class Demo():\n",
    "    def fun1(self,a,b):\n",
    "        print(a+b)\n",
    "        \n",
    "    def fun1(self,a,b):\n",
    "        print(a*b)"
   ]
  },
  {
   "cell_type": "code",
   "execution_count": 31,
   "id": "e3b81281",
   "metadata": {},
   "outputs": [
    {
     "name": "stdout",
     "output_type": "stream",
     "text": [
      "10\n"
     ]
    }
   ],
   "source": [
    "obj = Demo()\n",
    "\n",
    "obj.fun1(2,5)"
   ]
  },
  {
   "cell_type": "code",
   "execution_count": 32,
   "id": "18d9b1ef",
   "metadata": {},
   "outputs": [
    {
     "name": "stdout",
     "output_type": "stream",
     "text": [
      "20\n"
     ]
    }
   ],
   "source": [
    "obj.fun1(5,4)"
   ]
  },
  {
   "cell_type": "code",
   "execution_count": 34,
   "id": "d5f4f7df",
   "metadata": {},
   "outputs": [
    {
     "data": {
      "text/plain": [
       "12345678"
      ]
     },
     "execution_count": 34,
     "metadata": {},
     "output_type": "execute_result"
    }
   ],
   "source": [
    "l1 = [1,2,3,4]\n",
    "l2 = [5,6,7,8]\n",
    "l1+l2\n",
    "12345678 "
   ]
  },
  {
   "cell_type": "code",
   "execution_count": 35,
   "id": "3a8f3726",
   "metadata": {},
   "outputs": [],
   "source": [
    "# dunder methods"
   ]
  },
  {
   "cell_type": "code",
   "execution_count": null,
   "id": "431483ad",
   "metadata": {},
   "outputs": [],
   "source": [
    "class demo:\n",
    "    \n",
    "    def __init__(self, value):\n",
    "        self.value = valu\n",
    "\n",
    "    def __add__(self,):\n",
    "        \n",
    "    "
   ]
  },
  {
   "cell_type": "code",
   "execution_count": 75,
   "id": "fd411c65",
   "metadata": {},
   "outputs": [
    {
     "name": "stdout",
     "output_type": "stream",
     "text": [
      "Defaulting to user installation because normal site-packages is not writeableNote: you may need to restart the kernel to use updated packages.\n",
      "\n",
      "Requirement already satisfied: numpy in c:\\programdata\\anaconda3\\lib\\site-packages (1.24.3)\n"
     ]
    }
   ],
   "source": [
    "pip install numpy"
   ]
  },
  {
   "cell_type": "code",
   "execution_count": 77,
   "id": "ea75cf30",
   "metadata": {},
   "outputs": [],
   "source": [
    "import numpy as np"
   ]
  },
  {
   "cell_type": "code",
   "execution_count": null,
   "id": "5749dff5",
   "metadata": {},
   "outputs": [],
   "source": [
    "np.where()"
   ]
  },
  {
   "cell_type": "code",
   "execution_count": null,
   "id": "98a758c4",
   "metadata": {},
   "outputs": [],
   "source": [
    "np.ones()"
   ]
  },
  {
   "cell_type": "code",
   "execution_count": null,
   "id": "dbf32206",
   "metadata": {},
   "outputs": [],
   "source": []
  },
  {
   "cell_type": "code",
   "execution_count": null,
   "id": "76e7b902",
   "metadata": {},
   "outputs": [],
   "source": [
    "# Quiz practice\n",
    "import numpy as np\n",
    "my_array = np.array([[[[1,3,4]]]])\n",
    "print(my_array)\n",
    "print(my_array.ndim)\n",
    "b = np.array(my_array, ndmin= (my_array.ndim + 1))\n",
    "print(b)"
   ]
  },
  {
   "cell_type": "code",
   "execution_count": 23,
   "id": "1132f786",
   "metadata": {},
   "outputs": [
    {
     "data": {
      "text/plain": [
       "499128"
      ]
     },
     "execution_count": 23,
     "metadata": {},
     "output_type": "execute_result"
    }
   ],
   "source": [
    "a = np.arange(3*4*5*6).reshape((3,4,5,6)) \n",
    "b = np.arange(3*4*5*6)[::-1].reshape((5,4,6,3)) \n",
    "np.dot(a, b)[2,3,2,1,2,2]"
   ]
  },
  {
   "cell_type": "code",
   "execution_count": 21,
   "id": "d95aaee9",
   "metadata": {},
   "outputs": [
    {
     "name": "stdout",
     "output_type": "stream",
     "text": [
      "[ 3.+0.j  7.+0.j 32.+0.j]\n"
     ]
    }
   ],
   "source": [
    "a = np.array([3, 7, 32], dtype = complex) \n",
    "print(a)"
   ]
  },
  {
   "cell_type": "code",
   "execution_count": 33,
   "id": "aeac6ad0",
   "metadata": {},
   "outputs": [
    {
     "data": {
      "text/plain": [
       "array([ 561, -361,   72])"
      ]
     },
     "execution_count": 33,
     "metadata": {},
     "output_type": "execute_result"
    }
   ],
   "source": [
    "A = np.array([4,12,29])\n",
    "B = np.array([13,21,4])\n",
    "np.cross(B,A)"
   ]
  },
  {
   "cell_type": "code",
   "execution_count": 36,
   "id": "625348d9",
   "metadata": {},
   "outputs": [
    {
     "data": {
      "text/plain": [
       "array([[1., 1.],\n",
       "       [1., 1.]])"
      ]
     },
     "execution_count": 36,
     "metadata": {},
     "output_type": "execute_result"
    }
   ],
   "source": [
    "A = np.array([1,3,5,7,9,11,13,15,17,19,21,23,25])\n",
    "B = np.array([0,2,4,6,8,10,12,14,16,18,20, 22, 24])\n",
    "np.corrcoef(A, B)"
   ]
  },
  {
   "cell_type": "code",
   "execution_count": null,
   "id": "28a17ef5",
   "metadata": {},
   "outputs": [],
   "source": []
  },
  {
   "cell_type": "code",
   "execution_count": null,
   "id": "79c180b2",
   "metadata": {},
   "outputs": [],
   "source": []
  }
 ],
 "metadata": {
  "kernelspec": {
   "display_name": "Python 3 (ipykernel)",
   "language": "python",
   "name": "python3"
  },
  "language_info": {
   "codemirror_mode": {
    "name": "ipython",
    "version": 3
   },
   "file_extension": ".py",
   "mimetype": "text/x-python",
   "name": "python",
   "nbconvert_exporter": "python",
   "pygments_lexer": "ipython3",
   "version": "3.11.4"
  }
 },
 "nbformat": 4,
 "nbformat_minor": 5
}
