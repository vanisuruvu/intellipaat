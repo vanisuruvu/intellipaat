{
 "cells": [
  {
   "cell_type": "markdown",
   "id": "a870e0bc",
   "metadata": {},
   "source": [
    "#### Q1. Write a Python program to demonstrate multiple inheritance.\n",
    "- 1. Employee class has 3 data members EmployeeID, Gender (String), Salary and PerformanceRating(Out of 5) of type int. It has a get() function to get these details from the user.\n",
    "- 2. JoiningDetail class has a data member DateOfJoining of type Date and a function getDoJ to get the Date of joining of employees.\n",
    "- 3. Information Class uses the marks from Employee class and the DateOfJoining date from the JoiningDetail class to calculate the top 3 Employees based on their Ratings and then Display, using readData, all the details on these employees in Ascending order of their Date Of Joining."
   ]
  },
  {
   "cell_type": "code",
   "execution_count": 147,
   "id": "e1dc2a6b",
   "metadata": {},
   "outputs": [
    {
     "name": "stdout",
     "output_type": "stream",
     "text": [
      "JoiningDetail\n",
      "JoiningDetail\n",
      "JoiningDetail\n",
      "JoiningDetail\n",
      "JoiningDetail\n",
      "JoiningDetail\n",
      "EmployeeID: 1234, Gender: Female, Salary: 87899, PerformanceRating: 4\n",
      "EmployeeID: 3456, Gender: Male, Salary: 100009, PerformanceRating: 4\n",
      "EmployeeID: 5678, Gender: Female, Salary: 879455, PerformanceRating: 5\n",
      "EmployeeID: 7890, Gender: Male, Salary: 456489, PerformanceRating: 2\n",
      "EmployeeID: 1590, Gender: Female, Salary: 21348, PerformanceRating: 1\n",
      "EmployeeID: 7582, Gender: Female, Salary: 467889, PerformanceRating: 3\n",
      "-------------------------------\n",
      "The sorted dictionary by marks is : OrderedDict([(5678, <__main__.Information object at 0x00000278EACC9AD0>), (1234, <__main__.Information object at 0x00000278EACC9950>), (3456, <__main__.Information object at 0x00000278EAB88ED0>), (4567, <__main__.Information object at 0x00000278EAFC1490>), (7890, <__main__.Information object at 0x00000278EA768FD0>), (1590, <__main__.Information object at 0x00000278EA571590>)])\n",
      "EmployeeID: 5678, Gender: Female, Salary: 879455, PerformanceRating: 5\n",
      "DateOfJoining:: 2002-01-13\n",
      "EmployeeID: 1234, Gender: Female, Salary: 87899, PerformanceRating: 4\n",
      "DateOfJoining:: 1982-10-20\n",
      "EmployeeID: 3456, Gender: Male, Salary: 100009, PerformanceRating: 4\n",
      "DateOfJoining:: 1995-06-21\n",
      "output:::: {5678: {'EmployeeID': 5678, 'Gender': 'Female', 'Salary': 879455, 'PerformanceRating': 5, 'DateOfJoining': datetime.date(2002, 1, 13)}, 1234: {'EmployeeID': 1234, 'Gender': 'Female', 'Salary': 87899, 'PerformanceRating': 4, 'DateOfJoining': datetime.date(1982, 10, 20)}, 3456: {'EmployeeID': 3456, 'Gender': 'Male', 'Salary': 100009, 'PerformanceRating': 4, 'DateOfJoining': datetime.date(1995, 6, 21)}}\n",
      "5678 {'EmployeeID': 5678, 'Gender': 'Female', 'Salary': 879455, 'PerformanceRating': 5, 'DateOfJoining': datetime.date(2002, 1, 13)}\n",
      "3456 {'EmployeeID': 3456, 'Gender': 'Male', 'Salary': 100009, 'PerformanceRating': 4, 'DateOfJoining': datetime.date(1995, 6, 21)}\n",
      "1234 {'EmployeeID': 1234, 'Gender': 'Female', 'Salary': 87899, 'PerformanceRating': 4, 'DateOfJoining': datetime.date(1982, 10, 20)}\n"
     ]
    }
   ],
   "source": [
    "class Base:\n",
    "    def __init__(self): \n",
    "        pass\n",
    "\n",
    "class Employee(Base):\n",
    "    def __init__(self, EmployeeID, Gender, Salary, PerformanceRating, **kwargs):\n",
    "        self.EmployeeID = EmployeeID\n",
    "        self.Gender = Gender\n",
    "        self.Salary = Salary\n",
    "        self.PerformanceRating = PerformanceRating\n",
    "        super(Employee, self).__init__(**kwargs)\n",
    "    def get(self):\n",
    "        print(f\"EmployeeID: {self.EmployeeID}, Gender: {self.Gender}, Salary: {self.Salary}, PerformanceRating: {self.PerformanceRating}\")\n",
    "        return {'EmployeeID': self.EmployeeID, 'Gender': self.Gender, 'Salary': self.Salary, \n",
    "              'PerformanceRating': self.PerformanceRating}\n",
    "class JoiningDetail(Base):\n",
    "    def __init__(self, DateOfJoining, **kwargs):\n",
    "        self.DateOfJoining = DateOfJoining\n",
    "        super(JoiningDetail, self).__init__(**kwargs)\n",
    "        print(\"JoiningDetail\")\n",
    "    def getDoJ(self):\n",
    "        print(f\"DateOfJoining:: {self.DateOfJoining}\")\n",
    "        return self.DateOfJoining\n",
    "\n",
    "from collections import OrderedDict\n",
    "from operator import getitem\n",
    "from datetime import date\n",
    "\n",
    "class Information(Employee, JoiningDetail):\n",
    "    def __init__(self, EmployeeID, Gender, Salary, PerformanceRating, DateOfJoining):\n",
    "#         Employee.__init__( EmployeeID, Gender, Salary, PerformanceRating, DateOfJoining)\n",
    "#         JoiningDetail.__init__( DateOfJoining)\n",
    "        super(Information, self).__init__(EmployeeID=EmployeeID, Gender=Gender, Salary=Salary, PerformanceRating=PerformanceRating, DateOfJoining=DateOfJoining)\n",
    "def readData():\n",
    "    return {1234: Information(1234, 'Female', 87899, 4, date(1982, 10,20)),\n",
    "                 3456: Information(3456, 'Male', 100009, 4, date(1995,6,21)),\n",
    "                 5678: Information(5678, 'Female', 879455, 5, date(2002,1,13)),\n",
    "                 7890: Information(7890, 'Male', 456489, 2, date(1975,5,2)),\n",
    "                 1590: Information(1590, 'Female', 21348, 1, date(1963,8,27)),\n",
    "                 4567: Information(7582, 'Female', 467889, 3, date(2022,4,11))}\n",
    "\n",
    "\n",
    "def Display():\n",
    "    dic = readData()\n",
    "    res = OrderedDict(sorted(dic.items(),\n",
    "       key = lambda x: x[1].get()['PerformanceRating'], reverse=True))\n",
    "    print(\"-------------------------------\")\n",
    "    print(\"The sorted dictionary by marks is : \" + str(res))\n",
    "#     for i, j in res.items(): print(i, j.get(), dic[j.get()['EmployeeID']].DateOfJoining)\n",
    "    count = 3\n",
    "    output = dict()\n",
    "    for i,j in res.items():\n",
    "        output[i] = j.get()\n",
    "        output[i]['DateOfJoining'] = j.getDoJ()\n",
    "        count -= 1\n",
    "        if count <=0: break\n",
    "    print(\"output::::\", output)\n",
    "    res = OrderedDict(sorted(output.items(),\n",
    "       key = lambda x: int(x[1]['DateOfJoining'].strftime('%Y%m%d')), reverse=True))\n",
    "#     int(a.strftime('%Y%m%d'))\n",
    "    for i, j in res.items():\n",
    "        print(i, j)\n",
    "Display()\n",
    "# ob = Information(EmployeeID=1234, Gender='Female', Salary=87899, PerformanceRating=4, DateOfJoining='1975')\n",
    "# ob.getDoJ()\n"
   ]
  },
  {
   "cell_type": "code",
   "execution_count": null,
   "id": "47eae749",
   "metadata": {},
   "outputs": [],
   "source": []
  },
  {
   "cell_type": "code",
   "execution_count": null,
   "id": "dadf0032",
   "metadata": {},
   "outputs": [],
   "source": []
  },
  {
   "cell_type": "code",
   "execution_count": 118,
   "id": "af9dc8af",
   "metadata": {},
   "outputs": [
    {
     "data": {
      "text/plain": [
       "3"
      ]
     },
     "execution_count": 118,
     "metadata": {},
     "output_type": "execute_result"
    }
   ],
   "source": [
    "# checking multiple polymorphism\n",
    "class A(object):\n",
    "    def __init__(self):\n",
    "#         self.a=a\n",
    "        pass\n",
    "\n",
    "class B(A):\n",
    "    def __init__(self,b,**kw):\n",
    "        self.b=b\n",
    "        super(B,self).__init__(**kw)\n",
    "\n",
    "class C(A):\n",
    "    def __init__(self,c,**kw):\n",
    "        self.c=c\n",
    "        super(C,self).__init__(**kw)\n",
    "\n",
    "class D(B,C):\n",
    "    def __init__(self,b,c,d):\n",
    "        super(D,self).__init__(b=b,c=c)\n",
    "        self.d=d\n",
    "D(2,3,4).c"
   ]
  },
  {
   "cell_type": "markdown",
   "id": "5e0a6ffa",
   "metadata": {},
   "source": [
    "#### Q.2 Write a Python program to demonstrate Polymorphism.\n",
    "- 1. Class Vehicle with a parameterized function Fare, that takes input value as fare and returns it to calling Objects. \n",
    "- 2. Create five separate variables Bus, Car, Train, Truck and Ship that call the Fare function.\n",
    "- 3. Use a third variable TotalFare to store the sum of fare for each Vehicle Type.\n",
    "- 4. Print the TotalFare."
   ]
  },
  {
   "cell_type": "code",
   "execution_count": 32,
   "id": "6313cee0",
   "metadata": {},
   "outputs": [
    {
     "name": "stdout",
     "output_type": "stream",
     "text": [
      "212\n"
     ]
    }
   ],
   "source": [
    "class Vehicle:\n",
    "    def Fare(self, fare):\n",
    "        self.fare = fare\n",
    "        return self.fare\n",
    "Bus, Car, Train, Truck, Ship = Vehicle(), Vehicle(), Vehicle(), Vehicle(), Vehicle()\n",
    "TotalFare = Bus.Fare(45) + Car.Fare(32) + Train.Fare(78) + Truck.Fare(23) + Ship.Fare(34)\n",
    "print(TotalFare)"
   ]
  },
  {
   "cell_type": "markdown",
   "id": "c5c0f9e6",
   "metadata": {},
   "source": [
    "##### Q3. Consider an ongoing test cricket series. Following are the names of the players and their scores in the test1 and 2.\n",
    "- Test Match 1 :\n",
    "- Dhoni : 56 , Balaji : 94\n",
    "- Test Match 2 :\n",
    "- Balaji : 80 , Dravid : 105\n",
    "- Calculate the highest number of runs scored by an individual cricketer in both of the matches.\n",
    "- Create a python function Max_Score (M) that reads a dictionary M that recognizes the player with the highest total score. This function will return ( Top player , Total Score ) . You can consider the Top player as String who is the highest scorer and Top score as Integer .\n",
    "- Input : Max_Score({‘test1’:{‘Dhoni’:56, ‘Balaji : 85}, ‘test2’:{‘Dhoni’ 87, ‘Balaji’’:200}})\n",
    "- Output : (‘Balaji ‘ , 200)"
   ]
  },
  {
   "cell_type": "code",
   "execution_count": 45,
   "id": "7eae2656",
   "metadata": {},
   "outputs": [
    {
     "name": "stdout",
     "output_type": "stream",
     "text": [
      "Highest score by Dravid in Test Match 2: 105\n",
      "{'Dhoni': 56, 'Balaji': 174, 'Dravid': 105}\n",
      "Balaji scored max runs of 174\n"
     ]
    }
   ],
   "source": [
    "M = {'Test Match 1': {'Dhoni': 56, 'Balaji': 94},\n",
    "      'Test Match 2': {'Balaji': 80, 'Dravid': 105}}\n",
    "def high_per_test_score(d):\n",
    "    max_score, player, match_no = 0, '', ''\n",
    "    for i,j in d.items():\n",
    "        for k,l in j.items():\n",
    "            if l > max_score: \n",
    "                max_score = l \n",
    "                player = k\n",
    "                match_no = i\n",
    "    print(f\"Highest score by {player} in {match_no}: {max_score}\")\n",
    "high_per_test_score(M)\n",
    "\n",
    "def Max_Score(M):\n",
    "    out_dict = dict()\n",
    "    for i,j in d.items():\n",
    "        for k,l in j.items():\n",
    "            if k in out_dict:\n",
    "                out_dict[k] += l\n",
    "            else:\n",
    "                out_dict[k] = l\n",
    "    print(out_dict)\n",
    "    max_score, player = 0, ''\n",
    "    for i, j in out_dict.items():\n",
    "        if j > max_score: \n",
    "            max_score = j\n",
    "            player = i\n",
    "    print(f\"{player} scored max runs of {max_score}\")\n",
    "Max_Score(M)"
   ]
  },
  {
   "cell_type": "markdown",
   "id": "df7adfe6",
   "metadata": {},
   "source": [
    "##### Q4. Create a simple Card game in which there are 8 cards which are randomly chosen from a deck. The first card is shown face up. The game asks the player to predict whether the next card in the selection will have a higher or lower value than the currently showing card.\n",
    "- For example, say the card that’s shown is a 3. The player chooses “higher,” and the next card is shown. If that card has a higher value, the player is correct. In this example, if the player had chosen “lower,” they would have been incorrect. If the player guesses correctly, they get 20 points. If they choose incorrectly, they lose 15 points. If the next card to be turned over has the same value as the previous card, the player is incorrect."
   ]
  },
  {
   "cell_type": "code",
   "execution_count": 62,
   "id": "e9889bc1",
   "metadata": {},
   "outputs": [
    {
     "name": "stdout",
     "output_type": "stream",
     "text": [
      "[9, 2, 2, 3, 7, 2, 13, 9]\n",
      "First Card is: 9\n",
      "Enter Lower or higher (L / H) : l\n",
      "Current Card is: 1, Score is 20\n",
      "Enter Lower or higher (L / H) : h\n",
      "Current Card is: 2, Score is 5\n",
      "Enter Lower or higher (L / H) : h\n",
      "Current Card is: 3, Score is 25\n",
      "Enter Lower or higher (L / H) : h\n",
      "Current Card is: 4, Score is 45\n",
      "Enter Lower or higher (L / H) : l\n",
      "Current Card is: 5, Score is 65\n",
      "Enter Lower or higher (L / H) : h\n",
      "Current Card is: 6, Score is 85\n",
      "Enter Lower or higher (L / H) : l\n",
      "Current Card is: 7, Score is 105\n"
     ]
    }
   ],
   "source": [
    "numbers = list(range(1, 14))\n",
    "signs = ['heart', 'spade', 'diamond', 'flower']\n",
    "deck = []\n",
    "for i in numbers:\n",
    "    for j in range(0,4):\n",
    "        deck.append(i)\n",
    "\n",
    "import random\n",
    "cards = []\n",
    "for i in range(0, 8):\n",
    "    card = random.choice(deck)\n",
    "    cards.append(card)\n",
    "    deck.remove(card)\n",
    "\n",
    "cards = [9, 2, 2, 3, 7, 2, 13, 9]\n",
    "first_card = cards[0]\n",
    "score = 0\n",
    "print(cards)\n",
    "print(f\"First Card is: {first_card}\")\n",
    "\n",
    "for i in range(1,8):\n",
    "    choice = (input(\"Enter Lower or higher (L / H) : \"))\n",
    "    if choice.upper() == 'L':\n",
    "        if cards[i] < cards[i-1]:\n",
    "            score += 20\n",
    "        else: score -= 15\n",
    "    elif choice.upper() == 'H': \n",
    "        if cards[i] > cards[i-1]:\n",
    "            score += 20\n",
    "        else: score -= 15\n",
    "    print(f\"Current Card is: {i}, Score is {score}\")"
   ]
  },
  {
   "cell_type": "markdown",
   "id": "9feea13e",
   "metadata": {},
   "source": [
    "##### Q5. Create an empty dictionary called Car_0 . Then fill the dictionary with Keys : color , speed, X_position and Y_position.\n",
    "- car_0 = {'x_position': 10, 'y_position': 72, 'speed': 'medium'} .\n",
    "- a) If the speed is slow the coordinates of the X_pos get incremented by 2.\n",
    "- b) If the speed is Medium the coordinates of the X_pos gets incremented by 9\n",
    "- c) Now if the speed is Fast the coordinates of the X_pos gets incremented by 22. \n",
    "- Print the modified dictionary."
   ]
  },
  {
   "cell_type": "code",
   "execution_count": 77,
   "id": "01840f87",
   "metadata": {},
   "outputs": [
    {
     "name": "stdout",
     "output_type": "stream",
     "text": [
      "{'x_position': 43, 'y_position': 72, 'speed': 'fast'}\n"
     ]
    }
   ],
   "source": [
    "Car_0 = dict()\n",
    "Car_0 = {'x_position': 10, 'y_position': 72, 'speed': 'medium'} \n",
    "# speed = slow ==> \n",
    "Car_0['speed'] = 'slow'\n",
    "Car_0['x_position'] += 2 \n",
    "Car_0['speed'] = 'medium'\n",
    "Car_0['x_position'] += 9\n",
    "Car_0['speed'] = 'fast'\n",
    "Car_0['x_position'] += 22 \n",
    "print(Car_0)"
   ]
  },
  {
   "cell_type": "markdown",
   "id": "3a28f74d",
   "metadata": {},
   "source": [
    "##### Q6. Show a basic implementation of abstraction in python using the abstract classes.\n",
    "- 1. Create an abstract class in python.\n",
    "- 2. Implement abstraction with the other classes and base class as abstract class."
   ]
  },
  {
   "cell_type": "code",
   "execution_count": 79,
   "id": "547d1b44",
   "metadata": {},
   "outputs": [
    {
     "name": "stdout",
     "output_type": "stream",
     "text": [
      "bark\n"
     ]
    }
   ],
   "source": [
    "from abc import ABC, abstractmethod\n",
    "class Animal(ABC):  # Animal is an abstract class here\n",
    "    @abstractmethod\n",
    "    def speak(self):\n",
    "        pass\n",
    "    @abstractmethod\n",
    "    def color(self):\n",
    "        pass\n",
    "    \n",
    "class Dog(Animal):  # implementing Animal abstract class with Dog class.\n",
    "    def speak(self):\n",
    "        print('bark')\n",
    "    def color(self):\n",
    "        print('black')\n",
    "\n",
    "d = Dog()\n",
    "d.speak()"
   ]
  },
  {
   "cell_type": "markdown",
   "id": "ed9c899a",
   "metadata": {},
   "source": [
    "##### Q7. Create a program in python to demonstrate Polymorphism.\n",
    "- 1. Make use of private and protected members using python name mangling techniques."
   ]
  },
  {
   "cell_type": "code",
   "execution_count": 85,
   "id": "b5a67d34",
   "metadata": {},
   "outputs": [
    {
     "name": "stdout",
     "output_type": "stream",
     "text": [
      "meow\n",
      "bark\n",
      "cat\n"
     ]
    }
   ],
   "source": [
    "class Animal:\n",
    "    def speak(self):\n",
    "        self._name = 'Animal'\n",
    "    def animal_name(self, o):\n",
    "        return o._name\n",
    "class Cat(Animal):\n",
    "    def speak(self):\n",
    "        self._name = 'cat'\n",
    "        return 'meow'\n",
    "\n",
    "class Dog(Animal):\n",
    "    def speak(self):\n",
    "        self._name = 'dog'\n",
    "        return 'bark'\n",
    "\n",
    "def animal_sound(o):\n",
    "    return o.speak()\n",
    "\n",
    "\n",
    "\n",
    "c = Cat()\n",
    "d = Dog()\n",
    "print(animal_sound(c))\n",
    "print(animal_sound(d))\n",
    "print(Animal().animal_name(c))"
   ]
  },
  {
   "cell_type": "markdown",
   "id": "3ce4c499",
   "metadata": {},
   "source": [
    "##### Q8. Given a list of 50 natural numbers from 1-50. Create a function that will take every element from the list and return the square of each element. Use the python map and filter methods to implement the function on the given list."
   ]
  },
  {
   "cell_type": "code",
   "execution_count": 90,
   "id": "2d80df29",
   "metadata": {},
   "outputs": [
    {
     "name": "stdout",
     "output_type": "stream",
     "text": [
      "[1, 4, 9, 16, 25, 36, 49, 64, 81, 100, 121, 144, 169, 196, 225, 256, 289, 324, 361, 400, 441, 484, 529, 576, 625, 676, 729, 784, 841, 900, 961, 1024, 1089, 1156, 1225, 1296, 1369, 1444, 1521, 1600, 1681, 1764, 1849, 1936, 2025, 2116, 2209, 2304, 2401, 2500]\n",
      "[1, 4, 9, 16, 25, 36, 49, 64, 81, 100, 121, 144, 169, 196, 225, 256, 289, 324, 361, 400, 441, 484, 529, 576, 625, 676, 729, 784, 841, 900, 961, 1024, 1089, 1156, 1225, 1296, 1369, 1444, 1521, 1600, 1681, 1764, 1849, 1936, 2025, 2116, 2209, 2304, 2401, 2500]\n"
     ]
    }
   ],
   "source": [
    "s = list(range(1, 51))\n",
    "t = list(map(lambda x: x*x, s))\n",
    "print(t)\n",
    "\n",
    "def func(a): return a*a\n",
    "i = list(map(func, s))\n",
    "print(i)"
   ]
  },
  {
   "cell_type": "markdown",
   "id": "f1dc093b",
   "metadata": {},
   "source": [
    "##### Q9. Create a class, Triangle. Its init() method should take self, angle1, angle2, and angle3 as arguments."
   ]
  },
  {
   "cell_type": "code",
   "execution_count": 99,
   "id": "109c6b73",
   "metadata": {},
   "outputs": [],
   "source": [
    "# in Q11"
   ]
  },
  {
   "cell_type": "markdown",
   "id": "492b0300",
   "metadata": {},
   "source": [
    "##### Q10. Create a class variable named number_of_sides and set it equal to 3."
   ]
  },
  {
   "cell_type": "code",
   "execution_count": 100,
   "id": "c429ef94",
   "metadata": {},
   "outputs": [],
   "source": [
    "# in Q11"
   ]
  },
  {
   "cell_type": "markdown",
   "id": "7af0bc78",
   "metadata": {},
   "source": [
    "##### Q11. Create a method named check_angles. The sum of a triangle's three angles should return True if the sum is equal to 180, and False otherwise. The method should print whether the angles belong to a triangle or not.\n",
    "- 11.1 Write methods to verify if the triangle is an acute triangle or obtuse triangle.\n",
    "- 11.2 Create an instance of the triangle class and call all the defined methods.\n",
    "- 11.3 Create three child classes of triangle class - isosceles_triangle, right_triangle and equilateral_triangle.\n",
    "- 11.4 Define methods which check for their properties."
   ]
  },
  {
   "cell_type": "code",
   "execution_count": 96,
   "id": "608e0b65",
   "metadata": {},
   "outputs": [
    {
     "name": "stdout",
     "output_type": "stream",
     "text": [
      "Angles DO NOT belong to the triangle\n",
      "Is Acute?  True\n",
      "Is Obtuse?  False\n",
      "Equilateral:  True\n"
     ]
    }
   ],
   "source": [
    "class Triangle:\n",
    "    def __init__(self, angle1, angle2, angle3):\n",
    "        self.angle1, self.angle2, self.angle3 = angle1, angle2, angle3\n",
    "        self.number_of_sides = 3\n",
    "    def check_angles(self):\n",
    "        if self.angle1 + self.angle2 + self.angle3 == 180: \n",
    "            print(\"Angles belong to the triangle\")\n",
    "            return True\n",
    "        else: \n",
    "            print(\"Angles DO NOT belong to the triangle\")\n",
    "            return False\n",
    "    def is_acute(self):\n",
    "        if self.angle1 < 90 and self.angle2 < 90 and self.angle3 < 90: return True\n",
    "        else: return False\n",
    "    def is_obtuse(self):\n",
    "        if self.angle1 > 180 or self.angle2 > 180 or self.angle3 > 180: return True\n",
    "        else: return False\n",
    "\n",
    "        ob = Triangle(49,20, 72)\n",
    "ob.check_angles()\n",
    "print('Is Acute? ', ob.is_acute())\n",
    "print('Is Obtuse? ', ob.is_obtuse())\n",
    "\n",
    "class  isosceles_triangle(Triangle):\n",
    "    def check_isosceles(self):\n",
    "        if self.angle1 == self.angle2 or self.angle1 == self.angle3 or self.angle2 == self.angle3:\n",
    "            return True\n",
    "        else: return False\n",
    "class right_triangle(Triangle):\n",
    "    def check_right(self):\n",
    "        if self.angle1 == 90 or self.angle2 == 90 or self.angle3 == 90: return True\n",
    "        else: return False\n",
    "class equilateral_triangle(Triangle):\n",
    "    def check_equilateral(self):\n",
    "        if self.angle1 == self.angle2 == self.angle3: return True\n",
    "        else: return False\n",
    "print(\"Equilateral: \", equilateral_triangle(60,60,60).check_equilateral())"
   ]
  },
  {
   "cell_type": "markdown",
   "id": "deb59e29",
   "metadata": {},
   "source": [
    "##### Q12. Create a class isosceles_right_triangle which inherits from isosceles_triangle and right_triangle.\n",
    "- 12.1 Define methods which check for their properties."
   ]
  },
  {
   "cell_type": "code",
   "execution_count": 98,
   "id": "bd72aeaa",
   "metadata": {},
   "outputs": [
    {
     "name": "stdout",
     "output_type": "stream",
     "text": [
      "Isosceles Right Triangle:  True\n"
     ]
    }
   ],
   "source": [
    "class isosceles_right_triangle(isosceles_triangle, right_triangle):\n",
    "    def check_ir(self):\n",
    "        if isosceles_triangle.check_isosceles(self) and right_triangle.check_right(self): return True\n",
    "        else: return False\n",
    "ob = isosceles_right_triangle(45,45,90)\n",
    "print(\"Isosceles Right Triangle: \",ob.check_ir())"
   ]
  },
  {
   "cell_type": "code",
   "execution_count": null,
   "id": "9e0eb702",
   "metadata": {},
   "outputs": [],
   "source": []
  },
  {
   "cell_type": "code",
   "execution_count": null,
   "id": "57b664ee",
   "metadata": {},
   "outputs": [],
   "source": []
  },
  {
   "cell_type": "code",
   "execution_count": 64,
   "id": "4ebc40d6",
   "metadata": {},
   "outputs": [
    {
     "data": {
      "text/html": [
       "<div>\n",
       "<style scoped>\n",
       "    .dataframe tbody tr th:only-of-type {\n",
       "        vertical-align: middle;\n",
       "    }\n",
       "\n",
       "    .dataframe tbody tr th {\n",
       "        vertical-align: top;\n",
       "    }\n",
       "\n",
       "    .dataframe thead th {\n",
       "        text-align: right;\n",
       "    }\n",
       "</style>\n",
       "<table border=\"1\" class=\"dataframe\">\n",
       "  <thead>\n",
       "    <tr style=\"text-align: right;\">\n",
       "      <th></th>\n",
       "      <th>survived</th>\n",
       "      <th>pclass</th>\n",
       "      <th>sex</th>\n",
       "      <th>age</th>\n",
       "      <th>sibsp</th>\n",
       "      <th>parch</th>\n",
       "      <th>fare</th>\n",
       "      <th>embarked</th>\n",
       "      <th>class</th>\n",
       "      <th>who</th>\n",
       "      <th>adult_male</th>\n",
       "      <th>deck</th>\n",
       "      <th>embark_town</th>\n",
       "      <th>alive</th>\n",
       "      <th>alone</th>\n",
       "    </tr>\n",
       "  </thead>\n",
       "  <tbody>\n",
       "    <tr>\n",
       "      <th>0</th>\n",
       "      <td>0</td>\n",
       "      <td>3</td>\n",
       "      <td>male</td>\n",
       "      <td>22.0</td>\n",
       "      <td>1</td>\n",
       "      <td>0</td>\n",
       "      <td>7.2500</td>\n",
       "      <td>S</td>\n",
       "      <td>Third</td>\n",
       "      <td>man</td>\n",
       "      <td>True</td>\n",
       "      <td>NaN</td>\n",
       "      <td>Southampton</td>\n",
       "      <td>no</td>\n",
       "      <td>False</td>\n",
       "    </tr>\n",
       "    <tr>\n",
       "      <th>1</th>\n",
       "      <td>1</td>\n",
       "      <td>1</td>\n",
       "      <td>female</td>\n",
       "      <td>38.0</td>\n",
       "      <td>1</td>\n",
       "      <td>0</td>\n",
       "      <td>71.2833</td>\n",
       "      <td>C</td>\n",
       "      <td>First</td>\n",
       "      <td>woman</td>\n",
       "      <td>False</td>\n",
       "      <td>C</td>\n",
       "      <td>Cherbourg</td>\n",
       "      <td>yes</td>\n",
       "      <td>False</td>\n",
       "    </tr>\n",
       "    <tr>\n",
       "      <th>2</th>\n",
       "      <td>1</td>\n",
       "      <td>3</td>\n",
       "      <td>female</td>\n",
       "      <td>26.0</td>\n",
       "      <td>0</td>\n",
       "      <td>0</td>\n",
       "      <td>7.9250</td>\n",
       "      <td>S</td>\n",
       "      <td>Third</td>\n",
       "      <td>woman</td>\n",
       "      <td>False</td>\n",
       "      <td>NaN</td>\n",
       "      <td>Southampton</td>\n",
       "      <td>yes</td>\n",
       "      <td>True</td>\n",
       "    </tr>\n",
       "    <tr>\n",
       "      <th>3</th>\n",
       "      <td>1</td>\n",
       "      <td>1</td>\n",
       "      <td>female</td>\n",
       "      <td>35.0</td>\n",
       "      <td>1</td>\n",
       "      <td>0</td>\n",
       "      <td>53.1000</td>\n",
       "      <td>S</td>\n",
       "      <td>First</td>\n",
       "      <td>woman</td>\n",
       "      <td>False</td>\n",
       "      <td>C</td>\n",
       "      <td>Southampton</td>\n",
       "      <td>yes</td>\n",
       "      <td>False</td>\n",
       "    </tr>\n",
       "    <tr>\n",
       "      <th>4</th>\n",
       "      <td>0</td>\n",
       "      <td>3</td>\n",
       "      <td>male</td>\n",
       "      <td>35.0</td>\n",
       "      <td>0</td>\n",
       "      <td>0</td>\n",
       "      <td>8.0500</td>\n",
       "      <td>S</td>\n",
       "      <td>Third</td>\n",
       "      <td>man</td>\n",
       "      <td>True</td>\n",
       "      <td>NaN</td>\n",
       "      <td>Southampton</td>\n",
       "      <td>no</td>\n",
       "      <td>True</td>\n",
       "    </tr>\n",
       "    <tr>\n",
       "      <th>...</th>\n",
       "      <td>...</td>\n",
       "      <td>...</td>\n",
       "      <td>...</td>\n",
       "      <td>...</td>\n",
       "      <td>...</td>\n",
       "      <td>...</td>\n",
       "      <td>...</td>\n",
       "      <td>...</td>\n",
       "      <td>...</td>\n",
       "      <td>...</td>\n",
       "      <td>...</td>\n",
       "      <td>...</td>\n",
       "      <td>...</td>\n",
       "      <td>...</td>\n",
       "      <td>...</td>\n",
       "    </tr>\n",
       "    <tr>\n",
       "      <th>886</th>\n",
       "      <td>0</td>\n",
       "      <td>2</td>\n",
       "      <td>male</td>\n",
       "      <td>27.0</td>\n",
       "      <td>0</td>\n",
       "      <td>0</td>\n",
       "      <td>13.0000</td>\n",
       "      <td>S</td>\n",
       "      <td>Second</td>\n",
       "      <td>man</td>\n",
       "      <td>True</td>\n",
       "      <td>NaN</td>\n",
       "      <td>Southampton</td>\n",
       "      <td>no</td>\n",
       "      <td>True</td>\n",
       "    </tr>\n",
       "    <tr>\n",
       "      <th>887</th>\n",
       "      <td>1</td>\n",
       "      <td>1</td>\n",
       "      <td>female</td>\n",
       "      <td>19.0</td>\n",
       "      <td>0</td>\n",
       "      <td>0</td>\n",
       "      <td>30.0000</td>\n",
       "      <td>S</td>\n",
       "      <td>First</td>\n",
       "      <td>woman</td>\n",
       "      <td>False</td>\n",
       "      <td>B</td>\n",
       "      <td>Southampton</td>\n",
       "      <td>yes</td>\n",
       "      <td>True</td>\n",
       "    </tr>\n",
       "    <tr>\n",
       "      <th>888</th>\n",
       "      <td>0</td>\n",
       "      <td>3</td>\n",
       "      <td>female</td>\n",
       "      <td>NaN</td>\n",
       "      <td>1</td>\n",
       "      <td>2</td>\n",
       "      <td>23.4500</td>\n",
       "      <td>S</td>\n",
       "      <td>Third</td>\n",
       "      <td>woman</td>\n",
       "      <td>False</td>\n",
       "      <td>NaN</td>\n",
       "      <td>Southampton</td>\n",
       "      <td>no</td>\n",
       "      <td>False</td>\n",
       "    </tr>\n",
       "    <tr>\n",
       "      <th>889</th>\n",
       "      <td>1</td>\n",
       "      <td>1</td>\n",
       "      <td>male</td>\n",
       "      <td>26.0</td>\n",
       "      <td>0</td>\n",
       "      <td>0</td>\n",
       "      <td>30.0000</td>\n",
       "      <td>C</td>\n",
       "      <td>First</td>\n",
       "      <td>man</td>\n",
       "      <td>True</td>\n",
       "      <td>C</td>\n",
       "      <td>Cherbourg</td>\n",
       "      <td>yes</td>\n",
       "      <td>True</td>\n",
       "    </tr>\n",
       "    <tr>\n",
       "      <th>890</th>\n",
       "      <td>0</td>\n",
       "      <td>3</td>\n",
       "      <td>male</td>\n",
       "      <td>32.0</td>\n",
       "      <td>0</td>\n",
       "      <td>0</td>\n",
       "      <td>7.7500</td>\n",
       "      <td>Q</td>\n",
       "      <td>Third</td>\n",
       "      <td>man</td>\n",
       "      <td>True</td>\n",
       "      <td>NaN</td>\n",
       "      <td>Queenstown</td>\n",
       "      <td>no</td>\n",
       "      <td>True</td>\n",
       "    </tr>\n",
       "  </tbody>\n",
       "</table>\n",
       "<p>891 rows × 15 columns</p>\n",
       "</div>"
      ],
      "text/plain": [
       "     survived  pclass     sex   age  sibsp  parch     fare  ...   class    who adult_male  deck  embark_town alive  alone\n",
       "0           0       3    male  22.0      1      0   7.2500  ...   Third    man       True   NaN  Southampton    no  False\n",
       "1           1       1  female  38.0      1      0  71.2833  ...   First  woman      False     C    Cherbourg   yes  False\n",
       "2           1       3  female  26.0      0      0   7.9250  ...   Third  woman      False   NaN  Southampton   yes   True\n",
       "3           1       1  female  35.0      1      0  53.1000  ...   First  woman      False     C  Southampton   yes  False\n",
       "4           0       3    male  35.0      0      0   8.0500  ...   Third    man       True   NaN  Southampton    no   True\n",
       "..        ...     ...     ...   ...    ...    ...      ...  ...     ...    ...        ...   ...          ...   ...    ...\n",
       "886         0       2    male  27.0      0      0  13.0000  ...  Second    man       True   NaN  Southampton    no   True\n",
       "887         1       1  female  19.0      0      0  30.0000  ...   First  woman      False     B  Southampton   yes   True\n",
       "888         0       3  female   NaN      1      2  23.4500  ...   Third  woman      False   NaN  Southampton    no  False\n",
       "889         1       1    male  26.0      0      0  30.0000  ...   First    man       True     C    Cherbourg   yes   True\n",
       "890         0       3    male  32.0      0      0   7.7500  ...   Third    man       True   NaN   Queenstown    no   True\n",
       "\n",
       "[891 rows x 15 columns]"
      ]
     },
     "execution_count": 64,
     "metadata": {},
     "output_type": "execute_result"
    }
   ],
   "source": [
    "import seaborn as sns\n",
    "df = sns.load_dataset('titanic')\n",
    "df"
   ]
  },
  {
   "cell_type": "code",
   "execution_count": 66,
   "id": "eb1cbd94",
   "metadata": {},
   "outputs": [],
   "source": [
    "import pandas as pd\n",
    "import numpy as np"
   ]
  },
  {
   "cell_type": "code",
   "execution_count": 68,
   "id": "9a01ea16",
   "metadata": {},
   "outputs": [
    {
     "data": {
      "text/plain": [
       "577"
      ]
     },
     "execution_count": 68,
     "metadata": {},
     "output_type": "execute_result"
    }
   ],
   "source": [
    "df['sex'].value_counts()['male']"
   ]
  },
  {
   "cell_type": "code",
   "execution_count": 76,
   "id": "63eb618c",
   "metadata": {},
   "outputs": [
    {
     "data": {
      "text/plain": [
       "18.890814558058924"
      ]
     },
     "execution_count": 76,
     "metadata": {},
     "output_type": "execute_result"
    }
   ],
   "source": [
    "len(df.loc[df['alive']=='yes'].loc[df['sex']=='male']) / df['sex'].value_counts()['male'] *100"
   ]
  },
  {
   "cell_type": "code",
   "execution_count": 75,
   "id": "1e39932e",
   "metadata": {},
   "outputs": [
    {
     "data": {
      "text/plain": [
       "74.20382165605095"
      ]
     },
     "execution_count": 75,
     "metadata": {},
     "output_type": "execute_result"
    }
   ],
   "source": [
    "len(df.loc[df['alive']=='yes'].loc[df['sex']=='female']) / df['sex'].value_counts()['female'] *100"
   ]
  },
  {
   "cell_type": "code",
   "execution_count": null,
   "id": "4a2c9208",
   "metadata": {},
   "outputs": [],
   "source": []
  }
 ],
 "metadata": {
  "kernelspec": {
   "display_name": "Python 3 (ipykernel)",
   "language": "python",
   "name": "python3"
  },
  "language_info": {
   "codemirror_mode": {
    "name": "ipython",
    "version": 3
   },
   "file_extension": ".py",
   "mimetype": "text/x-python",
   "name": "python",
   "nbconvert_exporter": "python",
   "pygments_lexer": "ipython3",
   "version": "3.11.4"
  }
 },
 "nbformat": 4,
 "nbformat_minor": 5
}
