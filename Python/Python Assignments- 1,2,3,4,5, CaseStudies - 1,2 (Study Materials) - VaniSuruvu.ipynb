{
 "cells": [
  {
   "cell_type": "markdown",
   "id": "d64e5784",
   "metadata": {},
   "source": [
    "# If-Else Assignment 1"
   ]
  },
  {
   "cell_type": "markdown",
   "id": "55904f6d",
   "metadata": {},
   "source": [
    "# 1. Input the values of a and b as 10 and 20 respectively. Now check if a is greater or b is greater using if condition. Think about all the edge cases, and print the statements accordingly."
   ]
  },
  {
   "cell_type": "code",
   "execution_count": 9,
   "id": "c218d8a5",
   "metadata": {},
   "outputs": [
    {
     "name": "stdout",
     "output_type": "stream",
     "text": [
      "10 is less than 20\n"
     ]
    }
   ],
   "source": [
    "a, b = 10, 20\n",
    "if a>b: \n",
    "    print(f'{a} is greater than {b}')\n",
    "elif a == b:\n",
    "    print(f'{a} is equal to {b}')\n",
    "else: \n",
    "    print(f'{a} is less than {b}')"
   ]
  },
  {
   "cell_type": "markdown",
   "id": "8c119cbf",
   "metadata": {},
   "source": [
    "# Assignment 2 - Conditional Statements Assignment"
   ]
  },
  {
   "cell_type": "markdown",
   "id": "98373cce",
   "metadata": {},
   "source": [
    "# 1. Take three user inputs and print the greatest number from those inputs using if-else condition. Edge cases, if any, should also be handled."
   ]
  },
  {
   "cell_type": "code",
   "execution_count": 26,
   "id": "d0f8bb2d",
   "metadata": {},
   "outputs": [
    {
     "name": "stdout",
     "output_type": "stream",
     "text": [
      "Enter First Number: 20\n",
      "Enter Second Number: 10\n",
      "Enter Third Number: 30\n",
      "30 is greater\n"
     ]
    }
   ],
   "source": [
    "a, b, c =  eval(input(\"Enter First Number: \")), eval(input(\"Enter Second Number: \")), eval(input(\"Enter Third Number: \"))\n",
    "if a>b and a>c: print(f\"{a} is greater\")\n",
    "elif a>b and b>c: print(f\"{a} is greater\")\n",
    "elif a==b and b>c: print(f\"{a} and {b} are greater\")\n",
    "elif b>c : print(f\"{b} is greater\")\n",
    "elif c>b and c>a: print(f\"{c} is greater\")\n",
    "elif a==b and a==c: print(f\"{a}, {b}, {c} are all same and greater numbers\")\n",
    "elif a==b : print(f\"{a} and {b} are greater numbers\")\n",
    "elif a==c: print(f\"{a} and {c} are greater numbers\")\n",
    "elif b==c: print(f\"{b} and {c} are greater numbers\")\n",
    "else: print(\"Invalid numbers\")"
   ]
  },
  {
   "cell_type": "code",
   "execution_count": 32,
   "id": "863dc832",
   "metadata": {},
   "outputs": [
    {
     "name": "stdout",
     "output_type": "stream",
     "text": [
      "Enter First Number: 10\n",
      "Enter Second Number: 20\n",
      "Enter Third Number: 20\n",
      "20 and 20 are greater numbers\n"
     ]
    }
   ],
   "source": [
    "a, b, c =  eval(input(\"Enter First Number: \")), eval(input(\"Enter Second Number: \")), eval(input(\"Enter Third Number: \"))\n",
    "if a>b and a>c: \n",
    "    print(f\"{a} is greater\")\n",
    "    if b>c: print(f\"{b} is greater\")\n",
    "    elif b==c: print(f\"{b} and {c} are greater numbers\")\n",
    "elif c>a and c>b: print(f\"{c} is greater\")\n",
    "elif a==b and b==c: print(f\"{a}, {b}, {c} are all same and greater numbers\")\n",
    "elif a==b : print(f\"{a} and {b} are greater numbers\")\n",
    "elif a==c: print(f\"{a} and {c} are greater numbers\")\n",
    "elif b==c: print(f\"{b} and {c} are greater numbers\")\n",
    "else: print(\"Invalid numbers\") "
   ]
  },
  {
   "cell_type": "markdown",
   "id": "b09ed0a5",
   "metadata": {},
   "source": [
    "# Module 1: Loops    --     Assignment - 1"
   ]
  },
  {
   "cell_type": "markdown",
   "id": "c8ca737a",
   "metadata": {},
   "source": [
    "# 1. Print the numbers from 1 to 10 using while loop."
   ]
  },
  {
   "cell_type": "code",
   "execution_count": 33,
   "id": "14d30063",
   "metadata": {},
   "outputs": [
    {
     "name": "stdout",
     "output_type": "stream",
     "text": [
      "1\n",
      "2\n",
      "3\n",
      "4\n",
      "5\n",
      "6\n",
      "7\n",
      "8\n",
      "9\n",
      "10\n"
     ]
    }
   ],
   "source": [
    "i = 1\n",
    "while i<11 :\n",
    "    print(i)\n",
    "    i+=1"
   ]
  },
  {
   "cell_type": "markdown",
   "id": "7c34daf5",
   "metadata": {},
   "source": [
    "# Module 1: Loops   ---    Assignment - 2"
   ]
  },
  {
   "cell_type": "markdown",
   "id": "7bf60e63",
   "metadata": {},
   "source": [
    "# 1. Create a list that has 10, 23, 4, 26, 4, 75, 24, 54 values and with the help of while loop fetch the even numbers and print the numbers."
   ]
  },
  {
   "cell_type": "code",
   "execution_count": 35,
   "id": "a195da31",
   "metadata": {},
   "outputs": [
    {
     "name": "stdout",
     "output_type": "stream",
     "text": [
      "10, 4, 26, 4, 24, 54, "
     ]
    }
   ],
   "source": [
    "list1 = [10, 23, 4, 26, 4, 75, 24, 54 ]\n",
    "index = 0\n",
    "while index < len(list1):\n",
    "    if list1[index] %2 == 0:\n",
    "        print(list1[index], end = ', ')\n",
    "    index += 1"
   ]
  },
  {
   "cell_type": "markdown",
   "id": "ce9cf299",
   "metadata": {},
   "source": [
    "# Module 1: Loops   --    Assignment - 3"
   ]
  },
  {
   "cell_type": "markdown",
   "id": "c7662b39",
   "metadata": {},
   "source": [
    "# 1. Create an array that has user defined inputs and with the help of for loop, fetch all the prime numbers and print the numbers"
   ]
  },
  {
   "cell_type": "code",
   "execution_count": 43,
   "id": "fcb83a75",
   "metadata": {},
   "outputs": [
    {
     "name": "stdout",
     "output_type": "stream",
     "text": [
      "Enter the list of numbers: [234,11,235,42,87,89,23,83]\n",
      "List of prime numbers are [11, 89, 23, 83]\n"
     ]
    }
   ],
   "source": [
    "list1 = eval(input(\"Enter the list of numbers: \"))\n",
    "output =[]\n",
    "for i in list1:\n",
    "    count = 0\n",
    "    for j in range(2, int(i/2+1)): \n",
    "        if i%j ==0:\n",
    "            count = 1\n",
    "            break\n",
    "    if count == 0:\n",
    "        output.append(i)\n",
    "print(f\"List of prime numbers are {output}\")"
   ]
  },
  {
   "cell_type": "markdown",
   "id": "71f85b5b",
   "metadata": {},
   "source": [
    "# Module 1: Case Study - 1"
   ]
  },
  {
   "cell_type": "markdown",
   "id": "90576704",
   "metadata": {},
   "source": [
    "# 1. Create a list containing squares of numbers from 1 to 10 (HINT: use List Comprehension)."
   ]
  },
  {
   "cell_type": "code",
   "execution_count": 44,
   "id": "0b7a9220",
   "metadata": {},
   "outputs": [
    {
     "name": "stdout",
     "output_type": "stream",
     "text": [
      "[1, 2, 3, 4, 5, 6, 7, 8, 9, 10]\n"
     ]
    }
   ],
   "source": [
    "lst = [i for i in range(1,11)]\n",
    "print(lst)"
   ]
  },
  {
   "cell_type": "markdown",
   "id": "9e99e627",
   "metadata": {},
   "source": [
    "# 2. Write a function to check if the year number is a leap year."
   ]
  },
  {
   "cell_type": "code",
   "execution_count": 50,
   "id": "cd750b8f",
   "metadata": {},
   "outputs": [
    {
     "name": "stdout",
     "output_type": "stream",
     "text": [
      "Enter the number: 2024\n",
      "Given Year is a leap Year\n"
     ]
    }
   ],
   "source": [
    "def is_leap_year(year):\n",
    "      # Checking if the given year is leap year  \n",
    "    if((Year % 400 == 0) or   (Year % 100 != 0) and  (Year % 4 == 0)):   \n",
    "        print(\"Given Year is a leap Year\");  \n",
    "    else:     print (\"Given Year is not a leap Year\")  \n",
    "Year = int(input(\"Enter the number: \"))  \n",
    "is_leap_year(Year)"
   ]
  },
  {
   "cell_type": "markdown",
   "id": "bc739a67",
   "metadata": {},
   "source": [
    "# 3. Write a function to take an array and return another array that contains the members of the first array that are even."
   ]
  },
  {
   "cell_type": "code",
   "execution_count": 54,
   "id": "4f30417b",
   "metadata": {},
   "outputs": [
    {
     "name": "stdout",
     "output_type": "stream",
     "text": [
      "[10, 20, 32, 21324]\n"
     ]
    }
   ],
   "source": [
    "def get_even(lst):\n",
    "    output = []\n",
    "    for i in lst:\n",
    "        if i%2 == 0:\n",
    "            output.append(i)\n",
    "    return output\n",
    "print(get_even([10, 20, 32,113,21324,333]))"
   ]
  },
  {
   "cell_type": "markdown",
   "id": "e0a32486",
   "metadata": {},
   "source": [
    "# 4. Write a function that takes 2 arrays and prints the members of the first array that are present in the second array. (HINT: use Membership Comprehension)"
   ]
  },
  {
   "cell_type": "code",
   "execution_count": 56,
   "id": "283f3c85",
   "metadata": {},
   "outputs": [
    {
     "data": {
      "text/plain": [
       "[1, 2, 5]"
      ]
     },
     "execution_count": 56,
     "metadata": {},
     "output_type": "execute_result"
    }
   ],
   "source": [
    "def first_in_second(l1, l2):\n",
    "    return [i for i in l1 if i in l2]\n",
    "\n",
    "first_in_second([1,2,32,35,13,5],   [1,2,3,4,5])"
   ]
  },
  {
   "cell_type": "code",
   "execution_count": null,
   "id": "ba8cca18",
   "metadata": {},
   "outputs": [],
   "source": []
  },
  {
   "cell_type": "markdown",
   "id": "b9b3c924",
   "metadata": {},
   "source": [
    "# Module 1: Case Study - 2"
   ]
  },
  {
   "cell_type": "markdown",
   "id": "9b7faaac",
   "metadata": {},
   "source": [
    "# 1. Create 1st tuple with values -> (10, 20, 30), 2nd tuple with values -> (40, 50, 60):\n",
    "- a. Concatenate the two tuples and store it in “t_combine”\n",
    "- b. Repeat the elements of “t_combine” 3 times\n",
    "- c. Access the 3rd element from “t_combine”\n",
    "- d. Access the first three elements from “t_combine”\n",
    "- e. Access the last three elements from “t_combine”"
   ]
  },
  {
   "cell_type": "code",
   "execution_count": 68,
   "id": "20611728",
   "metadata": {},
   "outputs": [
    {
     "name": "stdout",
     "output_type": "stream",
     "text": [
      "(10, 20, 30, 40, 50, 60)\n",
      "(10, 20, 30, 40, 50, 60, 10, 20, 30, 40, 50, 60, 10, 20, 30, 40, 50, 60)\n",
      "3rd element : 30\n",
      "First 3 elements are : (10, 20, 30)\n",
      "Last 3 elements are : (60, 50, 40)\n",
      "Last 3 elements are : (40, 50, 60)\n"
     ]
    }
   ],
   "source": [
    "t1 = (10,20,30)\n",
    "t2 = (40,50,60)\n",
    "\n",
    "t_combine = t1 + t2\n",
    "print(t_combine)\n",
    "t_combine3 = t_combine * 3\n",
    "print(t_combine3)\n",
    "print(f\"3rd element : {t_combine[2]}\")\n",
    "print(f\"First 3 elements are : {t_combine[0:3]}\")\n",
    "print(f\"Last 3 elements are : {t_combine[-1:-4:-1]}\")  # reverse order\n",
    "print(f\"Last 3 elements are : {t_combine[len(t_combine) - 3:len(t_combine):1]}\")  # Actual order"
   ]
  },
  {
   "cell_type": "markdown",
   "id": "4bb9cce4",
   "metadata": {},
   "source": [
    "# 2. Create a list ‘my_list’ with these elements:\n",
    "- a. First element is a tuple with values 1, 2, 3\n",
    "- b. Second element is a tuple with values “a”, “b”, “c”\n",
    "- c. Third element is a tuple with values True, False"
   ]
  },
  {
   "cell_type": "code",
   "execution_count": 74,
   "id": "239fcff4",
   "metadata": {},
   "outputs": [
    {
     "name": "stdout",
     "output_type": "stream",
     "text": [
      "[(1, 2, 3), ('a', 'b', 'c'), (True, False)]\n"
     ]
    }
   ],
   "source": [
    "my_list = [(1,2,3) , (\"a\",\"b\",\"c\"), (True, False)]\n",
    "print(my_list)"
   ]
  },
  {
   "cell_type": "markdown",
   "id": "317346d0",
   "metadata": {},
   "source": [
    "# 3. Append a new tuple – (1, ‘a’, True) to ‘my_list’:\n",
    "- a. Append a new list – *“sparta”, 123+ to my_list"
   ]
  },
  {
   "cell_type": "code",
   "execution_count": 75,
   "id": "fc70877e",
   "metadata": {},
   "outputs": [
    {
     "name": "stdout",
     "output_type": "stream",
     "text": [
      "[(1, 2, 3), ('a', 'b', 'c'), (True, False), (1, 'a', True), 'sparta', 123]\n"
     ]
    }
   ],
   "source": [
    "my_list.append((1, 'a', True))\n",
    "my_list.extend([\"sparta\", 123])\n",
    "print(my_list)"
   ]
  },
  {
   "cell_type": "markdown",
   "id": "75a783a3",
   "metadata": {},
   "source": [
    "# 4. Create a dictionary ‘fruit’ where:\n",
    "- a. The first key is ‘Fruit’ and the values are (“Apple”, “Banana”, “Mango”, “Guava”)\n",
    "- b. The second key is ‘Cost’ and the values are (85, 54, 120, 70)\n",
    "- c. Extract all the keys from ‘fruit’\n",
    "- d. Extract all the values from ‘fruit’"
   ]
  },
  {
   "cell_type": "code",
   "execution_count": 79,
   "id": "aa01c68c",
   "metadata": {},
   "outputs": [
    {
     "name": "stdout",
     "output_type": "stream",
     "text": [
      "All keys from fruit are :  ['Fruit', 'Cost']\n",
      "All values from fruit are : [['Apple', 'Banana', 'Mango', 'Guava'], [85, 54, 120, 70]]\n"
     ]
    }
   ],
   "source": [
    "fruit = {'Fruit': ['Apple', 'Banana', \"Mango\", '''Guava'''],\n",
    "          'Cost': [85, 54, 120, 70]}\n",
    "print(f\"All keys from fruit are :  {list(fruit.keys())}\")\n",
    "print(f\"All values from fruit are : {list(fruit.values())}\")"
   ]
  },
  {
   "cell_type": "markdown",
   "id": "eddf5174",
   "metadata": {},
   "source": [
    "# 5. Create a set named 'my_set' with values (1, 1, \"a\", \"a\", True, True) and print the result."
   ]
  },
  {
   "cell_type": "code",
   "execution_count": 80,
   "id": "6c9cb951",
   "metadata": {},
   "outputs": [
    {
     "name": "stdout",
     "output_type": "stream",
     "text": [
      "my_set is : {1, 'a'}\n"
     ]
    }
   ],
   "source": [
    "my_set = {1, 1, 'a', \"a\", True, True}\n",
    "print(f\"my_set is : {my_set}\")"
   ]
  },
  {
   "cell_type": "code",
   "execution_count": null,
   "id": "0cd85a2f",
   "metadata": {},
   "outputs": [],
   "source": []
  },
  {
   "cell_type": "code",
   "execution_count": null,
   "id": "cd9e0523",
   "metadata": {},
   "outputs": [],
   "source": []
  },
  {
   "cell_type": "code",
   "execution_count": null,
   "id": "3a439eee",
   "metadata": {},
   "outputs": [],
   "source": [
    "for i in(5, 10):\n",
    "    for j in range(1,11):\n",
    "        print(f\"{i} * {j} = {i*j}\") "
   ]
  }
 ],
 "metadata": {
  "kernelspec": {
   "display_name": "Python 3 (ipykernel)",
   "language": "python",
   "name": "python3"
  },
  "language_info": {
   "codemirror_mode": {
    "name": "ipython",
    "version": 3
   },
   "file_extension": ".py",
   "mimetype": "text/x-python",
   "name": "python",
   "nbconvert_exporter": "python",
   "pygments_lexer": "ipython3",
   "version": "3.11.4"
  }
 },
 "nbformat": 4,
 "nbformat_minor": 5
}
